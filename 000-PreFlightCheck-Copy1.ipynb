{
 "cells": [
  {
   "cell_type": "markdown",
   "metadata": {
    "collapsed": true
   },
   "source": [
    "## 000-Pre flight Check"
   ]
  },
  {
   "cell_type": "code",
   "execution_count": 1,
   "metadata": {},
   "outputs": [
    {
     "name": "stdout",
     "output_type": "stream",
     "text": [
      "Last run @2022-01-21 11:32:09.244028-08:00\n"
     ]
    }
   ],
   "source": [
    "import datetime\n",
    "from pytz import timezone\n",
    "print(\"Last run @%s\" % (datetime.datetime.now(timezone('US/Pacific'))))\n",
    "#"
   ]
  },
  {
   "cell_type": "code",
   "execution_count": 2,
   "metadata": {},
   "outputs": [
    {
     "name": "stdout",
     "output_type": "stream",
     "text": [
      "Python  sys.version_info(major=3, minor=9, micro=7, releaselevel='final', serial=0)\n",
      "Python  3.9.7\n",
      "numpy: 1.20.3\n",
      "scipy: 1.7.1\n",
      "pandas:  1.3.4\n",
      "   path : ['/opt/conda/lib/python3.9/site-packages/pandas']\n",
      "matplotlib: 3.4.3\n",
      "scikit-learn: 0.24.2\n"
     ]
    }
   ],
   "source": [
    "import sys\n",
    "print(\"Python \",sys.version_info)\n",
    "\n",
    "import platform\n",
    "print(\"Python \",platform.python_version())\n",
    "\n",
    "import numpy as np\n",
    "print('numpy:', np.__version__)\n",
    "#print '   path :',np.__path__\n",
    "\n",
    "import scipy\n",
    "print('scipy:', scipy.__version__)\n",
    "#print '   path :',scipy.__path__\n",
    "\n",
    "import pandas as pd\n",
    "print('pandas: ',pd.__version__)\n",
    "print('   path :',pd.__path__)\n",
    "\n",
    "import matplotlib as plt\n",
    "print('matplotlib:', plt.__version__)\n",
    "#print '   path :',plt.__path__\n",
    "\n",
    "import sklearn\n",
    "print('scikit-learn:', sklearn.__version__)\n",
    "#print '   path :',sklearn.__path__\n",
    "\n",
    "# import psutil # Process & System Utilities\n",
    "# print 'psutil:',psutil.__version__\n",
    "# print psutil.virtual_memory()"
   ]
  },
  {
   "cell_type": "markdown",
   "metadata": {
    "collapsed": true
   },
   "source": [
    "## _That's All Folks !_"
   ]
  },
  {
   "cell_type": "code",
   "execution_count": null,
   "metadata": {
    "collapsed": true
   },
   "outputs": [],
   "source": []
  }
 ],
 "metadata": {
  "kernelspec": {
   "display_name": "Python 3 (ipykernel)",
   "language": "python",
   "name": "python3"
  },
  "language_info": {
   "codemirror_mode": {
    "name": "ipython",
    "version": 3
   },
   "file_extension": ".py",
   "mimetype": "text/x-python",
   "name": "python",
   "nbconvert_exporter": "python",
   "pygments_lexer": "ipython3",
   "version": "3.9.7"
  }
 },
 "nbformat": 4,
 "nbformat_minor": 1
}
