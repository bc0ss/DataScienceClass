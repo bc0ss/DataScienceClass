{
 "cells": [
  {
   "cell_type": "markdown",
   "metadata": {},
   "source": [
    "### RecSys Challenge 2015\n",
    "#### http://2015.recsyschallenge.com/\n",
    "#### In which we pedict the buying patterns"
   ]
  },
  {
   "cell_type": "markdown",
   "metadata": {},
   "source": [
    "### Learn from others\n",
    "1. twitter @ACMRecSys\n",
    "2. iPython notebook by @jbochi http://nbviewer.ipython.org/github/jbochi/recsyschallenge2015/blob/master/visualization.ipynb\n",
    "3. blogs by @totopampin http://aloneindecember.com/words/recsys-challenge-part-iii/\n"
   ]
  },
  {
   "cell_type": "code",
   "execution_count": 1,
   "metadata": {},
   "outputs": [
    {
     "name": "stdout",
     "output_type": "stream",
     "text": [
      "Last run @2022-01-24 18:01:45.442228-08:00\n"
     ]
    }
   ],
   "source": [
    "import datetime\n",
    "from pytz import timezone\n",
    "print(\"Last run @%s\" % (datetime.datetime.now(timezone('US/Pacific'))))"
   ]
  },
  {
   "cell_type": "code",
   "execution_count": 2,
   "metadata": {},
   "outputs": [
    {
     "name": "stdout",
     "output_type": "stream",
     "text": [
      "Populating the interactive namespace from numpy and matplotlib\n"
     ]
    }
   ],
   "source": [
    "%matplotlib inline\n",
    "%pylab inline"
   ]
  },
  {
   "cell_type": "code",
   "execution_count": 3,
   "metadata": {},
   "outputs": [
    {
     "name": "stdout",
     "output_type": "stream",
     "text": [
      "pandas:  1.3.4\n"
     ]
    }
   ],
   "source": [
    "import pandas as pd\n",
    "print('pandas: ',pd.__version__)\n",
    "import ggplot"
   ]
  },
  {
   "cell_type": "code",
   "execution_count": 4,
   "metadata": {},
   "outputs": [],
   "source": [
    "buys = pd.read_csv(\"data/recsys-2015/yoochoose-buys.dat\", \n",
    "                   names=[\"session\", \"timestamp\", \"item\", \"price\", \"qty\"], \n",
    "                   parse_dates=[\"timestamp\"])"
   ]
  },
  {
   "cell_type": "code",
   "execution_count": 5,
   "metadata": {},
   "outputs": [],
   "source": [
    "def read_clicks(filename):\n",
    "    return pd.read_csv(filename, \n",
    "                     names=[\"session\", \"timestamp\", \"item\", \"category\"], \n",
    "                     parse_dates=[\"timestamp\"],\n",
    "                     converters={\"category\": lambda c: -1 if c == \"S\" else c})"
   ]
  },
  {
   "cell_type": "code",
   "execution_count": 6,
   "metadata": {},
   "outputs": [
    {
     "name": "stdout",
     "output_type": "stream",
     "text": [
      "CPU times: user 2min 24s, sys: 9.85 s, total: 2min 34s\n",
      "Wall time: 2min 37s\n"
     ]
    }
   ],
   "source": [
    "%%time\n",
    "clicks = read_clicks(\"data/recsys-2015/yoochoose-clicks.dat\")\n",
    "test = read_clicks(\"data/recsys-2015/yoochoose-test.dat\")"
   ]
  },
  {
   "cell_type": "code",
   "execution_count": 114,
   "metadata": {},
   "outputs": [
    {
     "data": {
      "application/json": {
       "cell": {
        "!": "OSMagics",
        "HTML": "Other",
        "SVG": "Other",
        "bash": "Other",
        "capture": "ExecutionMagics",
        "debug": "ExecutionMagics",
        "file": "Other",
        "html": "DisplayMagics",
        "javascript": "DisplayMagics",
        "js": "DisplayMagics",
        "latex": "DisplayMagics",
        "perl": "Other",
        "prun": "ExecutionMagics",
        "pypy": "Other",
        "python": "Other",
        "python2": "Other",
        "python3": "Other",
        "ruby": "Other",
        "script": "ScriptMagics",
        "sh": "Other",
        "svg": "DisplayMagics",
        "sx": "OSMagics",
        "system": "OSMagics",
        "time": "ExecutionMagics",
        "timeit": "ExecutionMagics",
        "writefile": "OSMagics"
       },
       "line": {
        "alias": "OSMagics",
        "alias_magic": "BasicMagics",
        "autocall": "AutoMagics",
        "automagic": "AutoMagics",
        "autosave": "KernelMagics",
        "bookmark": "OSMagics",
        "cat": "Other",
        "cd": "OSMagics",
        "clear": "KernelMagics",
        "colors": "BasicMagics",
        "config": "ConfigMagics",
        "connect_info": "KernelMagics",
        "cp": "Other",
        "debug": "ExecutionMagics",
        "dhist": "OSMagics",
        "dirs": "OSMagics",
        "doctest_mode": "BasicMagics",
        "ed": "Other",
        "edit": "KernelMagics",
        "env": "OSMagics",
        "gui": "BasicMagics",
        "hist": "Other",
        "history": "HistoryMagics",
        "killbgscripts": "ScriptMagics",
        "ldir": "Other",
        "less": "KernelMagics",
        "lf": "Other",
        "lk": "Other",
        "ll": "Other",
        "load": "CodeMagics",
        "load_ext": "ExtensionMagics",
        "loadpy": "CodeMagics",
        "logoff": "LoggingMagics",
        "logon": "LoggingMagics",
        "logstart": "LoggingMagics",
        "logstate": "LoggingMagics",
        "logstop": "LoggingMagics",
        "ls": "Other",
        "lsmagic": "BasicMagics",
        "lx": "Other",
        "macro": "ExecutionMagics",
        "magic": "BasicMagics",
        "man": "KernelMagics",
        "matplotlib": "PylabMagics",
        "mkdir": "Other",
        "more": "KernelMagics",
        "mv": "Other",
        "notebook": "BasicMagics",
        "page": "BasicMagics",
        "pastebin": "CodeMagics",
        "pdb": "ExecutionMagics",
        "pdef": "NamespaceMagics",
        "pdoc": "NamespaceMagics",
        "pfile": "NamespaceMagics",
        "pinfo": "NamespaceMagics",
        "pinfo2": "NamespaceMagics",
        "popd": "OSMagics",
        "pprint": "BasicMagics",
        "precision": "BasicMagics",
        "profile": "BasicMagics",
        "prun": "ExecutionMagics",
        "psearch": "NamespaceMagics",
        "psource": "NamespaceMagics",
        "pushd": "OSMagics",
        "pwd": "OSMagics",
        "pycat": "OSMagics",
        "pylab": "PylabMagics",
        "qtconsole": "KernelMagics",
        "quickref": "BasicMagics",
        "recall": "HistoryMagics",
        "rehashx": "OSMagics",
        "reload_ext": "ExtensionMagics",
        "rep": "Other",
        "rerun": "HistoryMagics",
        "reset": "NamespaceMagics",
        "reset_selective": "NamespaceMagics",
        "rm": "Other",
        "rmdir": "Other",
        "run": "ExecutionMagics",
        "save": "CodeMagics",
        "sc": "OSMagics",
        "set_env": "OSMagics",
        "store": "StoreMagics",
        "sx": "OSMagics",
        "system": "OSMagics",
        "tb": "ExecutionMagics",
        "time": "ExecutionMagics",
        "timeit": "ExecutionMagics",
        "unalias": "OSMagics",
        "unload_ext": "ExtensionMagics",
        "who": "NamespaceMagics",
        "who_ls": "NamespaceMagics",
        "whos": "NamespaceMagics",
        "xdel": "NamespaceMagics",
        "xmode": "BasicMagics"
       }
      },
      "text/plain": [
       "Available line magics:\n",
       "%alias  %alias_magic  %autocall  %automagic  %autosave  %bookmark  %cat  %cd  %clear  %colors  %config  %connect_info  %cp  %debug  %dhist  %dirs  %doctest_mode  %ed  %edit  %env  %gui  %hist  %history  %killbgscripts  %ldir  %less  %lf  %lk  %ll  %load  %load_ext  %loadpy  %logoff  %logon  %logstart  %logstate  %logstop  %ls  %lsmagic  %lx  %macro  %magic  %man  %matplotlib  %mkdir  %more  %mv  %notebook  %page  %pastebin  %pdb  %pdef  %pdoc  %pfile  %pinfo  %pinfo2  %popd  %pprint  %precision  %profile  %prun  %psearch  %psource  %pushd  %pwd  %pycat  %pylab  %qtconsole  %quickref  %recall  %rehashx  %reload_ext  %rep  %rerun  %reset  %reset_selective  %rm  %rmdir  %run  %save  %sc  %set_env  %store  %sx  %system  %tb  %time  %timeit  %unalias  %unload_ext  %who  %who_ls  %whos  %xdel  %xmode\n",
       "\n",
       "Available cell magics:\n",
       "%%!  %%HTML  %%SVG  %%bash  %%capture  %%debug  %%file  %%html  %%javascript  %%js  %%latex  %%perl  %%prun  %%pypy  %%python  %%python2  %%python3  %%ruby  %%script  %%sh  %%svg  %%sx  %%system  %%time  %%timeit  %%writefile\n",
       "\n",
       "Automagic is ON, % prefix IS NOT needed for line magics."
      ]
     },
     "execution_count": 114,
     "metadata": {},
     "output_type": "execute_result"
    }
   ],
   "source": [
    "%lsmagic\n",
    "# cell magic starts with %% and line magic starts with %"
   ]
  },
  {
   "cell_type": "code",
   "execution_count": 115,
   "metadata": {},
   "outputs": [
    {
     "data": {
      "text/plain": [
       "session      33003944\n",
       "timestamp    33003944\n",
       "item         33003944\n",
       "category     33003944\n",
       "dtype: int64"
      ]
     },
     "execution_count": 115,
     "metadata": {},
     "output_type": "execute_result"
    }
   ],
   "source": [
    "clicks.count()"
   ]
  },
  {
   "cell_type": "code",
   "execution_count": 116,
   "metadata": {},
   "outputs": [
    {
     "data": {
      "text/html": [
       "<div>\n",
       "<table border=\"1\" class=\"dataframe\">\n",
       "  <thead>\n",
       "    <tr style=\"text-align: right;\">\n",
       "      <th></th>\n",
       "      <th>session</th>\n",
       "      <th>timestamp</th>\n",
       "      <th>item</th>\n",
       "      <th>category</th>\n",
       "    </tr>\n",
       "  </thead>\n",
       "  <tbody>\n",
       "    <tr>\n",
       "      <th>0</th>\n",
       "      <td>1</td>\n",
       "      <td>2014-04-07 10:51:09.277</td>\n",
       "      <td>214536502</td>\n",
       "      <td>0</td>\n",
       "    </tr>\n",
       "    <tr>\n",
       "      <th>1</th>\n",
       "      <td>1</td>\n",
       "      <td>2014-04-07 10:54:09.868</td>\n",
       "      <td>214536500</td>\n",
       "      <td>0</td>\n",
       "    </tr>\n",
       "    <tr>\n",
       "      <th>2</th>\n",
       "      <td>1</td>\n",
       "      <td>2014-04-07 10:54:46.998</td>\n",
       "      <td>214536506</td>\n",
       "      <td>0</td>\n",
       "    </tr>\n",
       "    <tr>\n",
       "      <th>3</th>\n",
       "      <td>1</td>\n",
       "      <td>2014-04-07 10:57:00.306</td>\n",
       "      <td>214577561</td>\n",
       "      <td>0</td>\n",
       "    </tr>\n",
       "    <tr>\n",
       "      <th>4</th>\n",
       "      <td>2</td>\n",
       "      <td>2014-04-07 13:56:37.614</td>\n",
       "      <td>214662742</td>\n",
       "      <td>0</td>\n",
       "    </tr>\n",
       "  </tbody>\n",
       "</table>\n",
       "</div>"
      ],
      "text/plain": [
       "   session               timestamp       item category\n",
       "0        1 2014-04-07 10:51:09.277  214536502        0\n",
       "1        1 2014-04-07 10:54:09.868  214536500        0\n",
       "2        1 2014-04-07 10:54:46.998  214536506        0\n",
       "3        1 2014-04-07 10:57:00.306  214577561        0\n",
       "4        2 2014-04-07 13:56:37.614  214662742        0"
      ]
     },
     "execution_count": 116,
     "metadata": {},
     "output_type": "execute_result"
    }
   ],
   "source": [
    "clicks.head()"
   ]
  },
  {
   "cell_type": "markdown",
   "metadata": {},
   "source": [
    "#### 1. Session ID = ID of the session. In one session there are one or many clicks. Could be represented as an integer number.\n",
    "#### 2. Timestamp = Time when the click occurred. Format of YYYY-MM-DDThh:mm:ss.SSSZ\n",
    "#### 3. Item ID = Unique identifier of the item that has been clicked. Could be represented as an integer number.\n",
    "#### 4. Category = Context of the click.\n",
    "#####      - \"S\" indicates a special offer,\n",
    "#####      - \"0\" indicates  a missing value,\n",
    "#####      - A number between 1 to 12 indicates a real category identifier\n",
    "#####      - Any other number indicates a brand. E.g. if an item has been clicked in the context of a promotion or special offer then the value will be \"S\", if the context was a brand i.e BOSCH,then the value will be an 8-10 digits number. If the item has been clicked under regular category, i.e. sport, then the value will be a number between 1 to 12. \n"
   ]
  },
  {
   "cell_type": "code",
   "execution_count": 117,
   "metadata": {},
   "outputs": [
    {
     "data": {
      "text/plain": [
       "session      1150753\n",
       "timestamp    1150753\n",
       "item         1150753\n",
       "price        1150753\n",
       "qty          1150753\n",
       "dtype: int64"
      ]
     },
     "execution_count": 117,
     "metadata": {},
     "output_type": "execute_result"
    }
   ],
   "source": [
    "buys.count()"
   ]
  },
  {
   "cell_type": "code",
   "execution_count": 118,
   "metadata": {},
   "outputs": [
    {
     "data": {
      "text/html": [
       "<div>\n",
       "<table border=\"1\" class=\"dataframe\">\n",
       "  <thead>\n",
       "    <tr style=\"text-align: right;\">\n",
       "      <th></th>\n",
       "      <th>session</th>\n",
       "      <th>timestamp</th>\n",
       "      <th>item</th>\n",
       "      <th>price</th>\n",
       "      <th>qty</th>\n",
       "    </tr>\n",
       "  </thead>\n",
       "  <tbody>\n",
       "    <tr>\n",
       "      <th>0</th>\n",
       "      <td>420374</td>\n",
       "      <td>2014-04-06 18:44:58.314</td>\n",
       "      <td>214537888</td>\n",
       "      <td>12462</td>\n",
       "      <td>1</td>\n",
       "    </tr>\n",
       "    <tr>\n",
       "      <th>1</th>\n",
       "      <td>420374</td>\n",
       "      <td>2014-04-06 18:44:58.325</td>\n",
       "      <td>214537850</td>\n",
       "      <td>10471</td>\n",
       "      <td>1</td>\n",
       "    </tr>\n",
       "    <tr>\n",
       "      <th>2</th>\n",
       "      <td>281626</td>\n",
       "      <td>2014-04-06 09:40:13.032</td>\n",
       "      <td>214535653</td>\n",
       "      <td>1883</td>\n",
       "      <td>1</td>\n",
       "    </tr>\n",
       "    <tr>\n",
       "      <th>3</th>\n",
       "      <td>420368</td>\n",
       "      <td>2014-04-04 06:13:28.848</td>\n",
       "      <td>214530572</td>\n",
       "      <td>6073</td>\n",
       "      <td>1</td>\n",
       "    </tr>\n",
       "    <tr>\n",
       "      <th>4</th>\n",
       "      <td>420368</td>\n",
       "      <td>2014-04-04 06:13:28.858</td>\n",
       "      <td>214835025</td>\n",
       "      <td>2617</td>\n",
       "      <td>1</td>\n",
       "    </tr>\n",
       "  </tbody>\n",
       "</table>\n",
       "</div>"
      ],
      "text/plain": [
       "   session               timestamp       item  price  qty\n",
       "0   420374 2014-04-06 18:44:58.314  214537888  12462    1\n",
       "1   420374 2014-04-06 18:44:58.325  214537850  10471    1\n",
       "2   281626 2014-04-06 09:40:13.032  214535653   1883    1\n",
       "3   420368 2014-04-04 06:13:28.848  214530572   6073    1\n",
       "4   420368 2014-04-04 06:13:28.858  214835025   2617    1"
      ]
     },
     "execution_count": 118,
     "metadata": {},
     "output_type": "execute_result"
    }
   ],
   "source": [
    "buys.head()"
   ]
  },
  {
   "cell_type": "markdown",
   "metadata": {},
   "source": [
    "#### 1. Session ID - Id of the session. In one session there are one or many buying events. Could be represented as an integer number.\n",
    "#### 2. Timestamp - Time when the buy occurred. Format of YYYY-MM-DDThh:mm:ss.SSSZ\n",
    "#### 3. Item ID - the unique identifier of item that has been bought. Could be represented as an integer number.\n",
    "#### 4. Price - the price of the item. Could be represented as an integer number.\n",
    "#### 5. Quantity - the quantity in this buying.  Could be represented as an integer number.```"
   ]
  },
  {
   "cell_type": "code",
   "execution_count": 119,
   "metadata": {},
   "outputs": [
    {
     "data": {
      "text/plain": [
       "session      8251791\n",
       "timestamp    8251791\n",
       "item         8251791\n",
       "category     8251791\n",
       "dtype: int64"
      ]
     },
     "execution_count": 119,
     "metadata": {},
     "output_type": "execute_result"
    }
   ],
   "source": [
    "test.count()"
   ]
  },
  {
   "cell_type": "markdown",
   "metadata": {},
   "source": [
    "##### Test same as Click ie Session ID,Time Stamp,Item Id, Click Context"
   ]
  },
  {
   "cell_type": "markdown",
   "metadata": {},
   "source": [
    "## Challenge as part of the RecSys Conference\n",
    "#### The task is to predict for each session in the test file, whether there is going to be a buying event in this session, and if there is, what are the items that will be bought. _No need to predict quantities._\n",
    "#### The solution file, that has to be submitted, comprises records that have exactly two fields:\n",
    "#### solution.dat\n",
    "#### 1. Session ID\n",
    "#### 2. Comma separated list of Item IDs that have been bought in this session\n"
   ]
  },
  {
   "cell_type": "markdown",
   "metadata": {},
   "source": [
    "\n",
    "2263615;214748295\n",
    " \n",
    "2541095;214748291,214748300,214831965,214831948\n"
   ]
  },
  {
   "cell_type": "code",
   "execution_count": 120,
   "metadata": {
    "collapsed": true
   },
   "outputs": [],
   "source": [
    "# Plan & Ideas - Stare at data/read Blogs/Think/Extrapolate experience\n",
    "#\n",
    "# Assumptions\n",
    "#   Assume Session ID are independnt ie not a user id\n",
    "#   Session ID is relevant, but needs feature engineering\n",
    "#   Are Items independent of each other (ie i.i.d)\n",
    "#     Is there a relationship between clicks of multiple items and a buy ?\n",
    "# To Try\n",
    "#   Do all sessions in buy have respective clicks ? <Yes>\n",
    "#   Clicked - Bought ratio by Category, by Item\n",
    "#   Category - Bought ratio by Category, by Item\n",
    "#   Items not in Clicked but in Test ? What would we do ? category base default ? Time based default ? Or ensamble ?\n",
    "#   Time - Ignored here\n",
    "#     Time dimension (HW) - which category, item has the best chance of buying based on time of click\n",
    "#     Time Period in Daypart ? Hour granularity ? 30 min granularity ?\n",
    "#     Browse time of an item vs Buy\n",
    "#     Browse only items - never bought\n",
    "#     Browse Time vs buy conversion ratio\n",
    "#     Number of times browser vs buy\n",
    "#     Session length\n",
    "#     Session Clicks\n",
    "#     Buy efficiency\n",
    "#     Run STL - weekly trends - What is the seasonality ? Hour of week ?\n",
    "#     Run ARIMA\n",
    "#     Aggregate Day of the week - Buys vs Clicks, Histogram \n",
    "#     Aggregate by DayPart of week 24 X 7 = 168 - Buy vs. Click\n",
    "#\n",
    "#     Would naive Bayes work ?\n",
    "#   This is a Classicication Problem. But what are the features ?\n",
    "# Inferences\n",
    "# \n",
    "# 53 % Buys have no qty !\n",
    "#\n",
    "#\n"
   ]
  },
  {
   "cell_type": "markdown",
   "metadata": {},
   "source": [
    "### Step 1 - Sanity Check : an overview of the dataset, look for anomalys and incongruencies\n",
    "Ref: iPython notebook by @jbochi"
   ]
  },
  {
   "cell_type": "markdown",
   "metadata": {},
   "source": [
    "#### 1.1 Verify Date Range"
   ]
  },
  {
   "cell_type": "code",
   "execution_count": 121,
   "metadata": {},
   "outputs": [
    {
     "name": "stdout",
     "output_type": "stream",
     "text": [
      "Clicks :  2014-04-01 03:00:00.124000 2014-09-30 02:59:59.430000\n",
      "  Test :  2014-04-01 03:00:08.250000 2014-09-30 02:59:23.866000\n",
      "  Buys :  2014-04-01 03:05:31.743000 2014-09-30 02:35:12.859000\n"
     ]
    }
   ],
   "source": [
    "print(\"Clicks : \",clicks[\"timestamp\"].min(), clicks[\"timestamp\"].max())\n",
    "print(\"  Test : \",test[\"timestamp\"].min(), test[\"timestamp\"].max())\n",
    "print(\"  Buys : \", buys[\"timestamp\"].min(), buys[\"timestamp\"].max())"
   ]
  },
  {
   "cell_type": "markdown",
   "metadata": {},
   "source": [
    "#### 1.2 Stats"
   ]
  },
  {
   "cell_type": "code",
   "execution_count": 122,
   "metadata": {},
   "outputs": [
    {
     "data": {
      "text/plain": [
       "session               int64\n",
       "timestamp    datetime64[ns]\n",
       "item                  int64\n",
       "category             object\n",
       "dtype: object"
      ]
     },
     "execution_count": 122,
     "metadata": {},
     "output_type": "execute_result"
    }
   ],
   "source": [
    "clicks.dtypes"
   ]
  },
  {
   "cell_type": "code",
   "execution_count": 123,
   "metadata": {},
   "outputs": [
    {
     "data": {
      "text/plain": [
       "session               int64\n",
       "timestamp    datetime64[ns]\n",
       "item                  int64\n",
       "price                 int64\n",
       "qty                   int64\n",
       "dtype: object"
      ]
     },
     "execution_count": 123,
     "metadata": {},
     "output_type": "execute_result"
    }
   ],
   "source": [
    "buys.dtypes"
   ]
  },
  {
   "cell_type": "code",
   "execution_count": 124,
   "metadata": {},
   "outputs": [
    {
     "name": "stdout",
     "output_type": "stream",
     "text": [
      "Clicks :  session      33003944\n",
      "timestamp    33003944\n",
      "item         33003944\n",
      "category     33003944\n",
      "dtype: int64\n",
      "Buys :  session      1150753\n",
      "timestamp    1150753\n",
      "item         1150753\n",
      "price        1150753\n",
      "qty          1150753\n",
      "dtype: int64\n",
      "CPU times: user 3.88 s, sys: 338 ms, total: 4.22 s\n",
      "Wall time: 4.43 s\n"
     ]
    }
   ],
   "source": [
    "%%time\n",
    "print(\"Clicks : \",clicks.count())\n",
    "print(\"Buys : \", buys.count()) "
   ]
  },
  {
   "cell_type": "code",
   "execution_count": 7,
   "metadata": {},
   "outputs": [
    {
     "name": "stdout",
     "output_type": "stream",
     "text": [
      "Unique Sessions :  Clicks :  9249729 Buys :  509696\n",
      "Buy Percentage by session : 5.51%\n",
      "CPU times: user 1.5 s, sys: 474 ms, total: 1.97 s\n",
      "Wall time: 1.97 s\n"
     ]
    }
   ],
   "source": [
    "%%time\n",
    "print(\"Unique Sessions : \",\"Clicks : \",clicks[\"session\"].unique().size)\n",
    "print(\"Buys : \",buys[\"session\"].unique().size)\n",
    "print(\"Buy Percentage by session : %.2f%%\" %(100.0 * buys[\"session\"].unique().size/clicks[\"session\"].unique().size))\n",
    "## Notice size not size(), unique() returns a numpy array"
   ]
  },
  {
   "cell_type": "code",
   "execution_count": 8,
   "metadata": {},
   "outputs": [
    {
     "name": "stdout",
     "output_type": "stream",
     "text": [
      "Unique Items :  Clicks :  52739 Buys :  19949\n"
     ]
    }
   ],
   "source": [
    "print(\"Unique Items : \",\"Clicks : \",clicks[\"item\"].unique().size)\n",
    "print(\"Buys : \",buys[\"item\"].unique().size)"
   ]
  },
  {
   "cell_type": "code",
   "execution_count": 9,
   "metadata": {},
   "outputs": [
    {
     "data": {
      "text/html": [
       "<div>\n",
       "<table border=\"1\" class=\"dataframe\">\n",
       "  <thead>\n",
       "    <tr style=\"text-align: right;\">\n",
       "      <th></th>\n",
       "      <th>item</th>\n",
       "    </tr>\n",
       "  </thead>\n",
       "  <tbody>\n",
       "    <tr>\n",
       "      <th>count</th>\n",
       "      <td>509696.000000</td>\n",
       "    </tr>\n",
       "    <tr>\n",
       "      <th>mean</th>\n",
       "      <td>2.257724</td>\n",
       "    </tr>\n",
       "    <tr>\n",
       "      <th>std</th>\n",
       "      <td>1.933342</td>\n",
       "    </tr>\n",
       "    <tr>\n",
       "      <th>min</th>\n",
       "      <td>1.000000</td>\n",
       "    </tr>\n",
       "    <tr>\n",
       "      <th>25%</th>\n",
       "      <td>1.000000</td>\n",
       "    </tr>\n",
       "    <tr>\n",
       "      <th>50%</th>\n",
       "      <td>2.000000</td>\n",
       "    </tr>\n",
       "    <tr>\n",
       "      <th>75%</th>\n",
       "      <td>3.000000</td>\n",
       "    </tr>\n",
       "    <tr>\n",
       "      <th>max</th>\n",
       "      <td>144.000000</td>\n",
       "    </tr>\n",
       "  </tbody>\n",
       "</table>\n",
       "</div>"
      ],
      "text/plain": [
       "                item\n",
       "count  509696.000000\n",
       "mean        2.257724\n",
       "std         1.933342\n",
       "min         1.000000\n",
       "25%         1.000000\n",
       "50%         2.000000\n",
       "75%         3.000000\n",
       "max       144.000000"
      ]
     },
     "execution_count": 9,
     "metadata": {},
     "output_type": "execute_result"
    }
   ],
   "source": [
    "# Item Stats - Items/session\n",
    "buys[[\"session\",\"item\"]].groupby(\"session\").count().describe()"
   ]
  },
  {
   "cell_type": "code",
   "execution_count": 10,
   "metadata": {},
   "outputs": [
    {
     "data": {
      "text/plain": [
       "<matplotlib.axes._subplots.AxesSubplot at 0x108d6ed90>"
      ]
     },
     "execution_count": 10,
     "metadata": {},
     "output_type": "execute_result"
    },
    {
     "data": {
      "image/png": "[encoded data removed]",
      "text/plain": [
       "<matplotlib.figure.Figure at 0x108d6e510>"
      ]
     },
     "metadata": {},
     "output_type": "display_data"
    }
   ],
   "source": [
    "buys[[\"session\",\"item\"]].groupby(\"session\").count().boxplot(return_type='axes')"
   ]
  },
  {
   "cell_type": "code",
   "execution_count": 13,
   "metadata": {},
   "outputs": [
    {
     "data": {
      "text/html": [
       "<div>\n",
       "<table border=\"1\" class=\"dataframe\">\n",
       "  <thead>\n",
       "    <tr style=\"text-align: right;\">\n",
       "      <th></th>\n",
       "      <th>session</th>\n",
       "      <th>timestamp</th>\n",
       "    </tr>\n",
       "  </thead>\n",
       "  <tbody>\n",
       "    <tr>\n",
       "      <th>0</th>\n",
       "      <td>1</td>\n",
       "      <td>2014-04-07 10:51:09.277</td>\n",
       "    </tr>\n",
       "    <tr>\n",
       "      <th>1</th>\n",
       "      <td>1</td>\n",
       "      <td>2014-04-07 10:54:09.868</td>\n",
       "    </tr>\n",
       "    <tr>\n",
       "      <th>2</th>\n",
       "      <td>1</td>\n",
       "      <td>2014-04-07 10:54:46.998</td>\n",
       "    </tr>\n",
       "    <tr>\n",
       "      <th>3</th>\n",
       "      <td>1</td>\n",
       "      <td>2014-04-07 10:57:00.306</td>\n",
       "    </tr>\n",
       "    <tr>\n",
       "      <th>4</th>\n",
       "      <td>2</td>\n",
       "      <td>2014-04-07 13:56:37.614</td>\n",
       "    </tr>\n",
       "    <tr>\n",
       "      <th>5</th>\n",
       "      <td>2</td>\n",
       "      <td>2014-04-07 13:57:19.373</td>\n",
       "    </tr>\n",
       "    <tr>\n",
       "      <th>6</th>\n",
       "      <td>2</td>\n",
       "      <td>2014-04-07 13:58:37.446</td>\n",
       "    </tr>\n",
       "    <tr>\n",
       "      <th>7</th>\n",
       "      <td>2</td>\n",
       "      <td>2014-04-07 13:59:50.710</td>\n",
       "    </tr>\n",
       "    <tr>\n",
       "      <th>8</th>\n",
       "      <td>2</td>\n",
       "      <td>2014-04-07 14:00:38.247</td>\n",
       "    </tr>\n",
       "    <tr>\n",
       "      <th>10</th>\n",
       "      <td>3</td>\n",
       "      <td>2014-04-02 13:17:46.940</td>\n",
       "    </tr>\n",
       "    <tr>\n",
       "      <th>11</th>\n",
       "      <td>3</td>\n",
       "      <td>2014-04-02 13:26:02.515</td>\n",
       "    </tr>\n",
       "    <tr>\n",
       "      <th>12</th>\n",
       "      <td>3</td>\n",
       "      <td>2014-04-02 13:30:12.318</td>\n",
       "    </tr>\n",
       "    <tr>\n",
       "      <th>13</th>\n",
       "      <td>4</td>\n",
       "      <td>2014-04-07 12:09:10.948</td>\n",
       "    </tr>\n",
       "    <tr>\n",
       "      <th>14</th>\n",
       "      <td>4</td>\n",
       "      <td>2014-04-07 12:26:25.416</td>\n",
       "    </tr>\n",
       "    <tr>\n",
       "      <th>15</th>\n",
       "      <td>6</td>\n",
       "      <td>2014-04-06 16:58:20.848</td>\n",
       "    </tr>\n",
       "    <tr>\n",
       "      <th>16</th>\n",
       "      <td>6</td>\n",
       "      <td>2014-04-06 17:02:26.976</td>\n",
       "    </tr>\n",
       "    <tr>\n",
       "      <th>17</th>\n",
       "      <td>7</td>\n",
       "      <td>2014-04-02 06:38:53.104</td>\n",
       "    </tr>\n",
       "    <tr>\n",
       "      <th>18</th>\n",
       "      <td>7</td>\n",
       "      <td>2014-04-02 06:39:05.854</td>\n",
       "    </tr>\n",
       "    <tr>\n",
       "      <th>19</th>\n",
       "      <td>8</td>\n",
       "      <td>2014-04-06 08:49:58.728</td>\n",
       "    </tr>\n",
       "    <tr>\n",
       "      <th>20</th>\n",
       "      <td>8</td>\n",
       "      <td>2014-04-06 08:52:12.647</td>\n",
       "    </tr>\n",
       "    <tr>\n",
       "      <th>21</th>\n",
       "      <td>9</td>\n",
       "      <td>2014-04-06 11:26:24.127</td>\n",
       "    </tr>\n",
       "    <tr>\n",
       "      <th>22</th>\n",
       "      <td>9</td>\n",
       "      <td>2014-04-06 11:28:54.654</td>\n",
       "    </tr>\n",
       "    <tr>\n",
       "      <th>23</th>\n",
       "      <td>9</td>\n",
       "      <td>2014-04-06 11:29:13.479</td>\n",
       "    </tr>\n",
       "    <tr>\n",
       "      <th>24</th>\n",
       "      <td>11</td>\n",
       "      <td>2014-04-03 10:44:35.672</td>\n",
       "    </tr>\n",
       "    <tr>\n",
       "      <th>25</th>\n",
       "      <td>11</td>\n",
       "      <td>2014-04-03 10:45:01.674</td>\n",
       "    </tr>\n",
       "    <tr>\n",
       "      <th>26</th>\n",
       "      <td>11</td>\n",
       "      <td>2014-04-03 10:45:29.873</td>\n",
       "    </tr>\n",
       "    <tr>\n",
       "      <th>27</th>\n",
       "      <td>11</td>\n",
       "      <td>2014-04-03 10:46:12.162</td>\n",
       "    </tr>\n",
       "    <tr>\n",
       "      <th>28</th>\n",
       "      <td>11</td>\n",
       "      <td>2014-04-03 10:46:57.355</td>\n",
       "    </tr>\n",
       "    <tr>\n",
       "      <th>36</th>\n",
       "      <td>12</td>\n",
       "      <td>2014-04-02 10:30:13.176</td>\n",
       "    </tr>\n",
       "    <tr>\n",
       "      <th>37</th>\n",
       "      <td>12</td>\n",
       "      <td>2014-04-02 10:33:12.621</td>\n",
       "    </tr>\n",
       "    <tr>\n",
       "      <th>...</th>\n",
       "      <td>...</td>\n",
       "      <td>...</td>\n",
       "    </tr>\n",
       "    <tr>\n",
       "      <th>33003912</th>\n",
       "      <td>11299822</td>\n",
       "      <td>2014-09-28 04:38:10.567</td>\n",
       "    </tr>\n",
       "    <tr>\n",
       "      <th>33003913</th>\n",
       "      <td>11299823</td>\n",
       "      <td>2014-09-29 07:06:28.550</td>\n",
       "    </tr>\n",
       "    <tr>\n",
       "      <th>33003914</th>\n",
       "      <td>11299816</td>\n",
       "      <td>2014-09-29 20:00:25.331</td>\n",
       "    </tr>\n",
       "    <tr>\n",
       "      <th>33003915</th>\n",
       "      <td>11299816</td>\n",
       "      <td>2014-09-29 20:03:17.312</td>\n",
       "    </tr>\n",
       "    <tr>\n",
       "      <th>33003916</th>\n",
       "      <td>11299816</td>\n",
       "      <td>2014-09-29 20:06:15.461</td>\n",
       "    </tr>\n",
       "    <tr>\n",
       "      <th>33003917</th>\n",
       "      <td>11299816</td>\n",
       "      <td>2014-09-29 20:12:02.435</td>\n",
       "    </tr>\n",
       "    <tr>\n",
       "      <th>33003918</th>\n",
       "      <td>11299816</td>\n",
       "      <td>2014-09-29 20:30:34.135</td>\n",
       "    </tr>\n",
       "    <tr>\n",
       "      <th>33003920</th>\n",
       "      <td>11299817</td>\n",
       "      <td>2014-09-24 18:33:52.512</td>\n",
       "    </tr>\n",
       "    <tr>\n",
       "      <th>33003921</th>\n",
       "      <td>11299818</td>\n",
       "      <td>2014-09-24 19:55:11.248</td>\n",
       "    </tr>\n",
       "    <tr>\n",
       "      <th>33003922</th>\n",
       "      <td>11299818</td>\n",
       "      <td>2014-09-24 19:55:12.619</td>\n",
       "    </tr>\n",
       "    <tr>\n",
       "      <th>33003923</th>\n",
       "      <td>11299819</td>\n",
       "      <td>2014-09-25 08:29:28.743</td>\n",
       "    </tr>\n",
       "    <tr>\n",
       "      <th>33003924</th>\n",
       "      <td>11299819</td>\n",
       "      <td>2014-09-25 08:30:27.345</td>\n",
       "    </tr>\n",
       "    <tr>\n",
       "      <th>33003925</th>\n",
       "      <td>11299819</td>\n",
       "      <td>2014-09-25 08:31:39.129</td>\n",
       "    </tr>\n",
       "    <tr>\n",
       "      <th>33003926</th>\n",
       "      <td>11299812</td>\n",
       "      <td>2014-09-23 12:57:54.770</td>\n",
       "    </tr>\n",
       "    <tr>\n",
       "      <th>33003927</th>\n",
       "      <td>11299812</td>\n",
       "      <td>2014-09-23 13:00:59.846</td>\n",
       "    </tr>\n",
       "    <tr>\n",
       "      <th>33003928</th>\n",
       "      <td>11299812</td>\n",
       "      <td>2014-09-23 13:03:20.359</td>\n",
       "    </tr>\n",
       "    <tr>\n",
       "      <th>33003929</th>\n",
       "      <td>11299813</td>\n",
       "      <td>2014-09-24 16:21:48.003</td>\n",
       "    </tr>\n",
       "    <tr>\n",
       "      <th>33003930</th>\n",
       "      <td>11299813</td>\n",
       "      <td>2014-09-24 16:24:42.314</td>\n",
       "    </tr>\n",
       "    <tr>\n",
       "      <th>33003931</th>\n",
       "      <td>11299813</td>\n",
       "      <td>2014-09-24 16:30:40.442</td>\n",
       "    </tr>\n",
       "    <tr>\n",
       "      <th>33003932</th>\n",
       "      <td>11299813</td>\n",
       "      <td>2014-09-24 16:34:32.102</td>\n",
       "    </tr>\n",
       "    <tr>\n",
       "      <th>33003933</th>\n",
       "      <td>11299813</td>\n",
       "      <td>2014-09-24 16:34:57.172</td>\n",
       "    </tr>\n",
       "    <tr>\n",
       "      <th>33003935</th>\n",
       "      <td>11299814</td>\n",
       "      <td>2014-09-29 16:54:36.153</td>\n",
       "    </tr>\n",
       "    <tr>\n",
       "      <th>33003936</th>\n",
       "      <td>11299808</td>\n",
       "      <td>2014-09-27 15:23:24.869</td>\n",
       "    </tr>\n",
       "    <tr>\n",
       "      <th>33003937</th>\n",
       "      <td>11299809</td>\n",
       "      <td>2014-09-25 09:28:02.827</td>\n",
       "    </tr>\n",
       "    <tr>\n",
       "      <th>33003938</th>\n",
       "      <td>11299809</td>\n",
       "      <td>2014-09-25 09:28:54.290</td>\n",
       "    </tr>\n",
       "    <tr>\n",
       "      <th>33003939</th>\n",
       "      <td>11299809</td>\n",
       "      <td>2014-09-25 09:33:22.412</td>\n",
       "    </tr>\n",
       "    <tr>\n",
       "      <th>33003940</th>\n",
       "      <td>11299809</td>\n",
       "      <td>2014-09-25 09:43:52.821</td>\n",
       "    </tr>\n",
       "    <tr>\n",
       "      <th>33003941</th>\n",
       "      <td>11299811</td>\n",
       "      <td>2014-09-24 19:02:09.741</td>\n",
       "    </tr>\n",
       "    <tr>\n",
       "      <th>33003942</th>\n",
       "      <td>11299811</td>\n",
       "      <td>2014-09-24 19:02:11.894</td>\n",
       "    </tr>\n",
       "    <tr>\n",
       "      <th>33003943</th>\n",
       "      <td>11299811</td>\n",
       "      <td>2014-09-24 19:02:25.146</td>\n",
       "    </tr>\n",
       "  </tbody>\n",
       "</table>\n",
       "<p>26372937 rows × 2 columns</p>\n",
       "</div>"
      ],
      "text/plain": [
       "           session               timestamp\n",
       "0                1 2014-04-07 10:51:09.277\n",
       "1                1 2014-04-07 10:54:09.868\n",
       "2                1 2014-04-07 10:54:46.998\n",
       "3                1 2014-04-07 10:57:00.306\n",
       "4                2 2014-04-07 13:56:37.614\n",
       "5                2 2014-04-07 13:57:19.373\n",
       "6                2 2014-04-07 13:58:37.446\n",
       "7                2 2014-04-07 13:59:50.710\n",
       "8                2 2014-04-07 14:00:38.247\n",
       "10               3 2014-04-02 13:17:46.940\n",
       "11               3 2014-04-02 13:26:02.515\n",
       "12               3 2014-04-02 13:30:12.318\n",
       "13               4 2014-04-07 12:09:10.948\n",
       "14               4 2014-04-07 12:26:25.416\n",
       "15               6 2014-04-06 16:58:20.848\n",
       "16               6 2014-04-06 17:02:26.976\n",
       "17               7 2014-04-02 06:38:53.104\n",
       "18               7 2014-04-02 06:39:05.854\n",
       "19               8 2014-04-06 08:49:58.728\n",
       "20               8 2014-04-06 08:52:12.647\n",
       "21               9 2014-04-06 11:26:24.127\n",
       "22               9 2014-04-06 11:28:54.654\n",
       "23               9 2014-04-06 11:29:13.479\n",
       "24              11 2014-04-03 10:44:35.672\n",
       "25              11 2014-04-03 10:45:01.674\n",
       "26              11 2014-04-03 10:45:29.873\n",
       "27              11 2014-04-03 10:46:12.162\n",
       "28              11 2014-04-03 10:46:57.355\n",
       "36              12 2014-04-02 10:30:13.176\n",
       "37              12 2014-04-02 10:33:12.621\n",
       "...            ...                     ...\n",
       "33003912  11299822 2014-09-28 04:38:10.567\n",
       "33003913  11299823 2014-09-29 07:06:28.550\n",
       "33003914  11299816 2014-09-29 20:00:25.331\n",
       "33003915  11299816 2014-09-29 20:03:17.312\n",
       "33003916  11299816 2014-09-29 20:06:15.461\n",
       "33003917  11299816 2014-09-29 20:12:02.435\n",
       "33003918  11299816 2014-09-29 20:30:34.135\n",
       "33003920  11299817 2014-09-24 18:33:52.512\n",
       "33003921  11299818 2014-09-24 19:55:11.248\n",
       "33003922  11299818 2014-09-24 19:55:12.619\n",
       "33003923  11299819 2014-09-25 08:29:28.743\n",
       "33003924  11299819 2014-09-25 08:30:27.345\n",
       "33003925  11299819 2014-09-25 08:31:39.129\n",
       "33003926  11299812 2014-09-23 12:57:54.770\n",
       "33003927  11299812 2014-09-23 13:00:59.846\n",
       "33003928  11299812 2014-09-23 13:03:20.359\n",
       "33003929  11299813 2014-09-24 16:21:48.003\n",
       "33003930  11299813 2014-09-24 16:24:42.314\n",
       "33003931  11299813 2014-09-24 16:30:40.442\n",
       "33003932  11299813 2014-09-24 16:34:32.102\n",
       "33003933  11299813 2014-09-24 16:34:57.172\n",
       "33003935  11299814 2014-09-29 16:54:36.153\n",
       "33003936  11299808 2014-09-27 15:23:24.869\n",
       "33003937  11299809 2014-09-25 09:28:02.827\n",
       "33003938  11299809 2014-09-25 09:28:54.290\n",
       "33003939  11299809 2014-09-25 09:33:22.412\n",
       "33003940  11299809 2014-09-25 09:43:52.821\n",
       "33003941  11299811 2014-09-24 19:02:09.741\n",
       "33003942  11299811 2014-09-24 19:02:11.894\n",
       "33003943  11299811 2014-09-24 19:02:25.146\n",
       "\n",
       "[26372937 rows x 2 columns]"
      ]
     },
     "execution_count": 13,
     "metadata": {},
     "output_type": "execute_result"
    }
   ],
   "source": [
    "# Session duration\n",
    "ts_by_session = clicks[[\"session\", \"timestamp\"]].groupby(\"session\")\n",
    "ts_by_session.head(5)"
   ]
  },
  {
   "cell_type": "code",
   "execution_count": 14,
   "metadata": {},
   "outputs": [
    {
     "data": {
      "text/html": [
       "<div>\n",
       "<table border=\"1\" class=\"dataframe\">\n",
       "  <thead>\n",
       "    <tr style=\"text-align: right;\">\n",
       "      <th></th>\n",
       "      <th>timestamp</th>\n",
       "    </tr>\n",
       "    <tr>\n",
       "      <th>session</th>\n",
       "      <th></th>\n",
       "    </tr>\n",
       "  </thead>\n",
       "  <tbody>\n",
       "    <tr>\n",
       "      <th>1</th>\n",
       "      <td>00:05:51.029000</td>\n",
       "    </tr>\n",
       "    <tr>\n",
       "      <th>2</th>\n",
       "      <td>00:05:59.275000</td>\n",
       "    </tr>\n",
       "    <tr>\n",
       "      <th>3</th>\n",
       "      <td>00:12:25.378000</td>\n",
       "    </tr>\n",
       "    <tr>\n",
       "      <th>4</th>\n",
       "      <td>00:17:14.468000</td>\n",
       "    </tr>\n",
       "    <tr>\n",
       "      <th>6</th>\n",
       "      <td>00:04:06.128000</td>\n",
       "    </tr>\n",
       "  </tbody>\n",
       "</table>\n",
       "</div>"
      ],
      "text/plain": [
       "              timestamp\n",
       "session                \n",
       "1       00:05:51.029000\n",
       "2       00:05:59.275000\n",
       "3       00:12:25.378000\n",
       "4       00:17:14.468000\n",
       "6       00:04:06.128000"
      ]
     },
     "execution_count": 14,
     "metadata": {},
     "output_type": "execute_result"
    }
   ],
   "source": [
    "min_ts = ts_by_session.min() # Because ts_by_session has a hierarchical index, this gives min per group !\n",
    "max_ts = ts_by_session.max()\n",
    "duration = max_ts - min_ts\n",
    "duration.head()"
   ]
  },
  {
   "cell_type": "code",
   "execution_count": 15,
   "metadata": {},
   "outputs": [
    {
     "data": {
      "text/html": [
       "<div>\n",
       "<table border=\"1\" class=\"dataframe\">\n",
       "  <thead>\n",
       "    <tr style=\"text-align: right;\">\n",
       "      <th></th>\n",
       "      <th>timestamp</th>\n",
       "    </tr>\n",
       "  </thead>\n",
       "  <tbody>\n",
       "    <tr>\n",
       "      <th>count</th>\n",
       "      <td>9249729</td>\n",
       "    </tr>\n",
       "    <tr>\n",
       "      <th>mean</th>\n",
       "      <td>0 days 00:06:21.633378</td>\n",
       "    </tr>\n",
       "    <tr>\n",
       "      <th>std</th>\n",
       "      <td>0 days 00:12:36.645009</td>\n",
       "    </tr>\n",
       "    <tr>\n",
       "      <th>min</th>\n",
       "      <td>0 days 00:00:00</td>\n",
       "    </tr>\n",
       "    <tr>\n",
       "      <th>25%</th>\n",
       "      <td>0 days 00:00:32.214000</td>\n",
       "    </tr>\n",
       "    <tr>\n",
       "      <th>50%</th>\n",
       "      <td>0 days 00:02:07.939000</td>\n",
       "    </tr>\n",
       "    <tr>\n",
       "      <th>75%</th>\n",
       "      <td>0 days 00:06:24.132000</td>\n",
       "    </tr>\n",
       "    <tr>\n",
       "      <th>max</th>\n",
       "      <td>2 days 20:18:57.996000</td>\n",
       "    </tr>\n",
       "  </tbody>\n",
       "</table>\n",
       "</div>"
      ],
      "text/plain": [
       "                    timestamp\n",
       "count                 9249729\n",
       "mean   0 days 00:06:21.633378\n",
       "std    0 days 00:12:36.645009\n",
       "min           0 days 00:00:00\n",
       "25%    0 days 00:00:32.214000\n",
       "50%    0 days 00:02:07.939000\n",
       "75%    0 days 00:06:24.132000\n",
       "max    2 days 20:18:57.996000"
      ]
     },
     "execution_count": 15,
     "metadata": {},
     "output_type": "execute_result"
    }
   ],
   "source": [
    "duration.describe()"
   ]
  },
  {
   "cell_type": "markdown",
   "metadata": {},
   "source": [
    "### 3. Clicks n' Buys"
   ]
  },
  {
   "cell_type": "markdown",
   "metadata": {},
   "source": [
    "#### Question : Do all buys have sessions in click ? \n",
    "##### Find Buys without clicks and clicks without buys - on (Session,ItemID) from buys & Clicks\n",
    "##### Anti-join in Pandas ?\n",
    "##### Test Result to verify correctness: \n",
    "#####      - Clicks without buys = 29,698,257 out of 33,003,944. 1,150,753 Buys\n",
    "#####     - Buys without clicks - none!"
   ]
  },
  {
   "cell_type": "code",
   "execution_count": 132,
   "metadata": {},
   "outputs": [
    {
     "name": "stdout",
     "output_type": "stream",
     "text": [
      "CPU times: user 481 ms, sys: 152 ms, total: 633 ms\n",
      "Wall time: 655 ms\n"
     ]
    }
   ],
   "source": [
    "%%time\n",
    "item_buys = buys[[\"session\", \"item\", \"qty\"]].groupby([\"session\", \"item\"]).sum()"
   ]
  },
  {
   "cell_type": "code",
   "execution_count": 133,
   "metadata": {},
   "outputs": [
    {
     "data": {
      "text/html": [
       "<div>\n",
       "<table border=\"1\" class=\"dataframe\">\n",
       "  <thead>\n",
       "    <tr style=\"text-align: right;\">\n",
       "      <th></th>\n",
       "      <th></th>\n",
       "      <th>Bought</th>\n",
       "    </tr>\n",
       "    <tr>\n",
       "      <th>session</th>\n",
       "      <th>item</th>\n",
       "      <th></th>\n",
       "    </tr>\n",
       "  </thead>\n",
       "  <tbody>\n",
       "    <tr>\n",
       "      <th>11</th>\n",
       "      <th>214821371</th>\n",
       "      <td>2</td>\n",
       "    </tr>\n",
       "    <tr>\n",
       "      <th>12</th>\n",
       "      <th>214717867</th>\n",
       "      <td>4</td>\n",
       "    </tr>\n",
       "    <tr>\n",
       "      <th rowspan=\"2\" valign=\"top\">21</th>\n",
       "      <th>214548744</th>\n",
       "      <td>1</td>\n",
       "    </tr>\n",
       "    <tr>\n",
       "      <th>214838503</th>\n",
       "      <td>1</td>\n",
       "    </tr>\n",
       "    <tr>\n",
       "      <th>33</th>\n",
       "      <th>214706441</th>\n",
       "      <td>2</td>\n",
       "    </tr>\n",
       "  </tbody>\n",
       "</table>\n",
       "</div>"
      ],
      "text/plain": [
       "                   Bought\n",
       "session item             \n",
       "11      214821371       2\n",
       "12      214717867       4\n",
       "21      214548744       1\n",
       "        214838503       1\n",
       "33      214706441       2"
      ]
     },
     "execution_count": 133,
     "metadata": {},
     "output_type": "execute_result"
    }
   ],
   "source": [
    "item_buys.columns = [\"Bought\"]\n",
    "item_buys.head()"
   ]
  },
  {
   "cell_type": "code",
   "execution_count": 134,
   "metadata": {},
   "outputs": [
    {
     "name": "stdout",
     "output_type": "stream",
     "text": [
      "CPU times: user 16.9 s, sys: 6.28 s, total: 23.1 s\n",
      "Wall time: 26.3 s\n"
     ]
    }
   ],
   "source": [
    "%%time\n",
    "item_clicks = clicks[[\"session\", \"item\", \"timestamp\"]].groupby([\"session\", \"item\"]).count()"
   ]
  },
  {
   "cell_type": "code",
   "execution_count": 135,
   "metadata": {},
   "outputs": [
    {
     "data": {
      "text/html": [
       "<div>\n",
       "<table border=\"1\" class=\"dataframe\">\n",
       "  <thead>\n",
       "    <tr style=\"text-align: right;\">\n",
       "      <th></th>\n",
       "      <th></th>\n",
       "      <th>Clicked</th>\n",
       "    </tr>\n",
       "    <tr>\n",
       "      <th>session</th>\n",
       "      <th>item</th>\n",
       "      <th></th>\n",
       "    </tr>\n",
       "  </thead>\n",
       "  <tbody>\n",
       "    <tr>\n",
       "      <th rowspan=\"4\" valign=\"top\">1</th>\n",
       "      <th>214536500</th>\n",
       "      <td>1</td>\n",
       "    </tr>\n",
       "    <tr>\n",
       "      <th>214536502</th>\n",
       "      <td>1</td>\n",
       "    </tr>\n",
       "    <tr>\n",
       "      <th>214536506</th>\n",
       "      <td>1</td>\n",
       "    </tr>\n",
       "    <tr>\n",
       "      <th>214577561</th>\n",
       "      <td>1</td>\n",
       "    </tr>\n",
       "    <tr>\n",
       "      <th>2</th>\n",
       "      <th>214551617</th>\n",
       "      <td>1</td>\n",
       "    </tr>\n",
       "  </tbody>\n",
       "</table>\n",
       "</div>"
      ],
      "text/plain": [
       "                   Clicked\n",
       "session item              \n",
       "1       214536500        1\n",
       "        214536502        1\n",
       "        214536506        1\n",
       "        214577561        1\n",
       "2       214551617        1"
      ]
     },
     "execution_count": 135,
     "metadata": {},
     "output_type": "execute_result"
    }
   ],
   "source": [
    "item_clicks.columns = [\"Clicked\"]\n",
    "item_clicks.head()"
   ]
  },
  {
   "cell_type": "code",
   "execution_count": 136,
   "metadata": {},
   "outputs": [
    {
     "name": "stdout",
     "output_type": "stream",
     "text": [
      "CPU times: user 44.9 s, sys: 10.8 s, total: 55.7 s\n",
      "Wall time: 60 s\n"
     ]
    }
   ],
   "source": [
    "%%time\n",
    "e2e_ses = pd.merge(item_clicks, item_buys, how='outer', left_index=True, right_index=True)"
   ]
  },
  {
   "cell_type": "code",
   "execution_count": 137,
   "metadata": {},
   "outputs": [
    {
     "data": {
      "text/html": [
       "<div>\n",
       "<table border=\"1\" class=\"dataframe\">\n",
       "  <thead>\n",
       "    <tr style=\"text-align: right;\">\n",
       "      <th></th>\n",
       "      <th></th>\n",
       "      <th>Clicked</th>\n",
       "      <th>Bought</th>\n",
       "    </tr>\n",
       "    <tr>\n",
       "      <th>session</th>\n",
       "      <th>item</th>\n",
       "      <th></th>\n",
       "      <th></th>\n",
       "    </tr>\n",
       "  </thead>\n",
       "  <tbody>\n",
       "    <tr>\n",
       "      <th rowspan=\"4\" valign=\"top\">1</th>\n",
       "      <th>214536500</th>\n",
       "      <td>1</td>\n",
       "      <td>NaN</td>\n",
       "    </tr>\n",
       "    <tr>\n",
       "      <th>214536502</th>\n",
       "      <td>1</td>\n",
       "      <td>NaN</td>\n",
       "    </tr>\n",
       "    <tr>\n",
       "      <th>214536506</th>\n",
       "      <td>1</td>\n",
       "      <td>NaN</td>\n",
       "    </tr>\n",
       "    <tr>\n",
       "      <th>214577561</th>\n",
       "      <td>1</td>\n",
       "      <td>NaN</td>\n",
       "    </tr>\n",
       "    <tr>\n",
       "      <th>2</th>\n",
       "      <th>214551617</th>\n",
       "      <td>1</td>\n",
       "      <td>NaN</td>\n",
       "    </tr>\n",
       "  </tbody>\n",
       "</table>\n",
       "</div>"
      ],
      "text/plain": [
       "                   Clicked  Bought\n",
       "session item                      \n",
       "1       214536500        1     NaN\n",
       "        214536502        1     NaN\n",
       "        214536506        1     NaN\n",
       "        214577561        1     NaN\n",
       "2       214551617        1     NaN"
      ]
     },
     "execution_count": 137,
     "metadata": {},
     "output_type": "execute_result"
    }
   ],
   "source": [
    "e2e_ses.head()"
   ]
  },
  {
   "cell_type": "code",
   "execution_count": 138,
   "metadata": {},
   "outputs": [
    {
     "data": {
      "text/plain": [
       "Clicked    26615576\n",
       "Bought      1049817\n",
       "dtype: int64"
      ]
     },
     "execution_count": 138,
     "metadata": {},
     "output_type": "execute_result"
    }
   ],
   "source": [
    "e2e_ses.count() # number of non-null items"
   ]
  },
  {
   "cell_type": "code",
   "execution_count": 139,
   "metadata": {},
   "outputs": [
    {
     "name": "stdout",
     "output_type": "stream",
     "text": [
      "Buy Percentage by Item : 3.94%\n"
     ]
    }
   ],
   "source": [
    "print(\"Buy Percentage by Item : %.2f%%\" %(100.0 * e2e_ses[\"Bought\"].count() / e2e_ses[\"Clicked\"].count()))"
   ]
  },
  {
   "cell_type": "code",
   "execution_count": 93,
   "metadata": {},
   "outputs": [
    {
     "name": "stdout",
     "output_type": "stream",
     "text": [
      "26615576\n"
     ]
    }
   ],
   "source": [
    "print(item_clicks.size)"
   ]
  },
  {
   "cell_type": "code",
   "execution_count": 98,
   "metadata": {},
   "outputs": [
    {
     "data": {
      "text/html": [
       "<div>\n",
       "<table border=\"1\" class=\"dataframe\">\n",
       "  <thead>\n",
       "    <tr style=\"text-align: right;\">\n",
       "      <th></th>\n",
       "      <th></th>\n",
       "      <th>Clicked</th>\n",
       "      <th>Bought</th>\n",
       "    </tr>\n",
       "    <tr>\n",
       "      <th>session</th>\n",
       "      <th>item</th>\n",
       "      <th></th>\n",
       "      <th></th>\n",
       "    </tr>\n",
       "  </thead>\n",
       "  <tbody>\n",
       "  </tbody>\n",
       "</table>\n",
       "</div>"
      ],
      "text/plain": [
       "Empty DataFrame\n",
       "Columns: [Clicked, Bought]\n",
       "Index: []"
      ]
     },
     "execution_count": 98,
     "metadata": {},
     "output_type": "execute_result"
    }
   ],
   "source": [
    "e2e_ses[pd.isnull(e2e_ses['Clicked'])]"
   ]
  },
  {
   "cell_type": "code",
   "execution_count": 100,
   "metadata": {},
   "outputs": [
    {
     "name": "stderr",
     "output_type": "stream",
     "text": [
      "/Users/ksankar/miniconda2/lib/python2.7/site-packages/numpy/lib/function_base.py:3834: RuntimeWarning: Invalid value encountered in percentile\n",
      "  RuntimeWarning)\n"
     ]
    },
    {
     "data": {
      "text/html": [
       "<div>\n",
       "<table border=\"1\" class=\"dataframe\">\n",
       "  <thead>\n",
       "    <tr style=\"text-align: right;\">\n",
       "      <th></th>\n",
       "      <th>Clicked</th>\n",
       "      <th>Bought</th>\n",
       "    </tr>\n",
       "  </thead>\n",
       "  <tbody>\n",
       "    <tr>\n",
       "      <th>count</th>\n",
       "      <td>2.661558e+07</td>\n",
       "      <td>1.049817e+06</td>\n",
       "    </tr>\n",
       "    <tr>\n",
       "      <th>mean</th>\n",
       "      <td>1.240024e+00</td>\n",
       "      <td>7.082053e-01</td>\n",
       "    </tr>\n",
       "    <tr>\n",
       "      <th>std</th>\n",
       "      <td>6.613830e-01</td>\n",
       "      <td>1.398469e+00</td>\n",
       "    </tr>\n",
       "    <tr>\n",
       "      <th>min</th>\n",
       "      <td>1.000000e+00</td>\n",
       "      <td>0.000000e+00</td>\n",
       "    </tr>\n",
       "    <tr>\n",
       "      <th>25%</th>\n",
       "      <td>1.000000e+00</td>\n",
       "      <td>NaN</td>\n",
       "    </tr>\n",
       "    <tr>\n",
       "      <th>50%</th>\n",
       "      <td>1.000000e+00</td>\n",
       "      <td>NaN</td>\n",
       "    </tr>\n",
       "    <tr>\n",
       "      <th>75%</th>\n",
       "      <td>1.000000e+00</td>\n",
       "      <td>NaN</td>\n",
       "    </tr>\n",
       "    <tr>\n",
       "      <th>max</th>\n",
       "      <td>2.000000e+02</td>\n",
       "      <td>1.400000e+02</td>\n",
       "    </tr>\n",
       "  </tbody>\n",
       "</table>\n",
       "</div>"
      ],
      "text/plain": [
       "            Clicked        Bought\n",
       "count  2.661558e+07  1.049817e+06\n",
       "mean   1.240024e+00  7.082053e-01\n",
       "std    6.613830e-01  1.398469e+00\n",
       "min    1.000000e+00  0.000000e+00\n",
       "25%    1.000000e+00           NaN\n",
       "50%    1.000000e+00           NaN\n",
       "75%    1.000000e+00           NaN\n",
       "max    2.000000e+02  1.400000e+02"
      ]
     },
     "execution_count": 100,
     "metadata": {},
     "output_type": "execute_result"
    }
   ],
   "source": [
    "e2e_ses.describe()"
   ]
  },
  {
   "cell_type": "code",
   "execution_count": 103,
   "metadata": {},
   "outputs": [
    {
     "data": {
      "text/html": [
       "<div>\n",
       "<table border=\"1\" class=\"dataframe\">\n",
       "  <thead>\n",
       "    <tr style=\"text-align: right;\">\n",
       "      <th></th>\n",
       "      <th>Clicked</th>\n",
       "      <th>Bought</th>\n",
       "    </tr>\n",
       "  </thead>\n",
       "  <tbody>\n",
       "    <tr>\n",
       "      <th>count</th>\n",
       "      <td>2.661558e+07</td>\n",
       "      <td>2.661558e+07</td>\n",
       "    </tr>\n",
       "    <tr>\n",
       "      <th>mean</th>\n",
       "      <td>1.240024e+00</td>\n",
       "      <td>2.793424e-02</td>\n",
       "    </tr>\n",
       "    <tr>\n",
       "      <th>std</th>\n",
       "      <td>6.613830e-01</td>\n",
       "      <td>3.100701e-01</td>\n",
       "    </tr>\n",
       "    <tr>\n",
       "      <th>min</th>\n",
       "      <td>1.000000e+00</td>\n",
       "      <td>0.000000e+00</td>\n",
       "    </tr>\n",
       "    <tr>\n",
       "      <th>25%</th>\n",
       "      <td>1.000000e+00</td>\n",
       "      <td>0.000000e+00</td>\n",
       "    </tr>\n",
       "    <tr>\n",
       "      <th>50%</th>\n",
       "      <td>1.000000e+00</td>\n",
       "      <td>0.000000e+00</td>\n",
       "    </tr>\n",
       "    <tr>\n",
       "      <th>75%</th>\n",
       "      <td>1.000000e+00</td>\n",
       "      <td>0.000000e+00</td>\n",
       "    </tr>\n",
       "    <tr>\n",
       "      <th>max</th>\n",
       "      <td>2.000000e+02</td>\n",
       "      <td>1.400000e+02</td>\n",
       "    </tr>\n",
       "  </tbody>\n",
       "</table>\n",
       "</div>"
      ],
      "text/plain": [
       "            Clicked        Bought\n",
       "count  2.661558e+07  2.661558e+07\n",
       "mean   1.240024e+00  2.793424e-02\n",
       "std    6.613830e-01  3.100701e-01\n",
       "min    1.000000e+00  0.000000e+00\n",
       "25%    1.000000e+00  0.000000e+00\n",
       "50%    1.000000e+00  0.000000e+00\n",
       "75%    1.000000e+00  0.000000e+00\n",
       "max    2.000000e+02  1.400000e+02"
      ]
     },
     "execution_count": 103,
     "metadata": {},
     "output_type": "execute_result"
    }
   ],
   "source": [
    "e2e_ses.fillna(0,inplace=True).describe()"
   ]
  },
  {
   "cell_type": "code",
   "execution_count": 104,
   "metadata": {},
   "outputs": [
    {
     "data": {
      "text/plain": [
       "0.10215779997428077"
      ]
     },
     "execution_count": 104,
     "metadata": {},
     "output_type": "execute_result"
    }
   ],
   "source": [
    "# More clicks = more buys?\n",
    "e2e_ses[\"Clicked\"].corr(e2e_ses[\"Bought\"])"
   ]
  },
  {
   "cell_type": "markdown",
   "metadata": {},
   "source": [
    "### Step 2 - Feature Exraction"
   ]
  },
  {
   "cell_type": "markdown",
   "metadata": {},
   "source": [
    "#### Add feature ClickDayPart = HourofDay & DayOfWeek\n",
    "#### DayPart is a feature used widely in AdTech. Let us apply that technique here"
   ]
  },
  {
   "cell_type": "code",
   "execution_count": 141,
   "metadata": {},
   "outputs": [
    {
     "data": {
      "text/html": [
       "<div>\n",
       "<table border=\"1\" class=\"dataframe\">\n",
       "  <thead>\n",
       "    <tr style=\"text-align: right;\">\n",
       "      <th></th>\n",
       "      <th>session</th>\n",
       "      <th>timestamp</th>\n",
       "      <th>item</th>\n",
       "      <th>price</th>\n",
       "      <th>qty</th>\n",
       "    </tr>\n",
       "  </thead>\n",
       "  <tbody>\n",
       "    <tr>\n",
       "      <th>0</th>\n",
       "      <td>420374</td>\n",
       "      <td>2014-04-06 18:44:58.314</td>\n",
       "      <td>214537888</td>\n",
       "      <td>12462</td>\n",
       "      <td>1</td>\n",
       "    </tr>\n",
       "    <tr>\n",
       "      <th>1</th>\n",
       "      <td>420374</td>\n",
       "      <td>2014-04-06 18:44:58.325</td>\n",
       "      <td>214537850</td>\n",
       "      <td>10471</td>\n",
       "      <td>1</td>\n",
       "    </tr>\n",
       "    <tr>\n",
       "      <th>2</th>\n",
       "      <td>281626</td>\n",
       "      <td>2014-04-06 09:40:13.032</td>\n",
       "      <td>214535653</td>\n",
       "      <td>1883</td>\n",
       "      <td>1</td>\n",
       "    </tr>\n",
       "    <tr>\n",
       "      <th>3</th>\n",
       "      <td>420368</td>\n",
       "      <td>2014-04-04 06:13:28.848</td>\n",
       "      <td>214530572</td>\n",
       "      <td>6073</td>\n",
       "      <td>1</td>\n",
       "    </tr>\n",
       "    <tr>\n",
       "      <th>4</th>\n",
       "      <td>420368</td>\n",
       "      <td>2014-04-04 06:13:28.858</td>\n",
       "      <td>214835025</td>\n",
       "      <td>2617</td>\n",
       "      <td>1</td>\n",
       "    </tr>\n",
       "  </tbody>\n",
       "</table>\n",
       "</div>"
      ],
      "text/plain": [
       "   session               timestamp       item  price  qty\n",
       "0   420374 2014-04-06 18:44:58.314  214537888  12462    1\n",
       "1   420374 2014-04-06 18:44:58.325  214537850  10471    1\n",
       "2   281626 2014-04-06 09:40:13.032  214535653   1883    1\n",
       "3   420368 2014-04-04 06:13:28.848  214530572   6073    1\n",
       "4   420368 2014-04-04 06:13:28.858  214835025   2617    1"
      ]
     },
     "execution_count": 141,
     "metadata": {},
     "output_type": "execute_result"
    }
   ],
   "source": [
    "buys.head()"
   ]
  },
  {
   "cell_type": "code",
   "execution_count": 142,
   "metadata": {},
   "outputs": [
    {
     "data": {
      "text/html": [
       "<div>\n",
       "<table border=\"1\" class=\"dataframe\">\n",
       "  <thead>\n",
       "    <tr style=\"text-align: right;\">\n",
       "      <th></th>\n",
       "      <th>session</th>\n",
       "      <th>timestamp</th>\n",
       "      <th>item</th>\n",
       "      <th>category</th>\n",
       "    </tr>\n",
       "  </thead>\n",
       "  <tbody>\n",
       "    <tr>\n",
       "      <th>0</th>\n",
       "      <td>1</td>\n",
       "      <td>2014-04-07 10:51:09.277</td>\n",
       "      <td>214536502</td>\n",
       "      <td>0</td>\n",
       "    </tr>\n",
       "    <tr>\n",
       "      <th>1</th>\n",
       "      <td>1</td>\n",
       "      <td>2014-04-07 10:54:09.868</td>\n",
       "      <td>214536500</td>\n",
       "      <td>0</td>\n",
       "    </tr>\n",
       "    <tr>\n",
       "      <th>2</th>\n",
       "      <td>1</td>\n",
       "      <td>2014-04-07 10:54:46.998</td>\n",
       "      <td>214536506</td>\n",
       "      <td>0</td>\n",
       "    </tr>\n",
       "    <tr>\n",
       "      <th>3</th>\n",
       "      <td>1</td>\n",
       "      <td>2014-04-07 10:57:00.306</td>\n",
       "      <td>214577561</td>\n",
       "      <td>0</td>\n",
       "    </tr>\n",
       "    <tr>\n",
       "      <th>4</th>\n",
       "      <td>2</td>\n",
       "      <td>2014-04-07 13:56:37.614</td>\n",
       "      <td>214662742</td>\n",
       "      <td>0</td>\n",
       "    </tr>\n",
       "  </tbody>\n",
       "</table>\n",
       "</div>"
      ],
      "text/plain": [
       "   session               timestamp       item category\n",
       "0        1 2014-04-07 10:51:09.277  214536502        0\n",
       "1        1 2014-04-07 10:54:09.868  214536500        0\n",
       "2        1 2014-04-07 10:54:46.998  214536506        0\n",
       "3        1 2014-04-07 10:57:00.306  214577561        0\n",
       "4        2 2014-04-07 13:56:37.614  214662742        0"
      ]
     },
     "execution_count": 142,
     "metadata": {},
     "output_type": "execute_result"
    }
   ],
   "source": [
    "clicks.head()"
   ]
  },
  {
   "cell_type": "code",
   "execution_count": 155,
   "metadata": {},
   "outputs": [
    {
     "data": {
      "text/html": [
       "<div>\n",
       "<table border=\"1\" class=\"dataframe\">\n",
       "  <thead>\n",
       "    <tr style=\"text-align: right;\">\n",
       "      <th></th>\n",
       "      <th>session</th>\n",
       "      <th>timestamp</th>\n",
       "      <th>item</th>\n",
       "      <th>price</th>\n",
       "      <th>qty</th>\n",
       "      <th>dayofweek</th>\n",
       "      <th>hourofday</th>\n",
       "      <th>weefofyear</th>\n",
       "      <th>dayOfWeek</th>\n",
       "      <th>hourOfDay</th>\n",
       "      <th>weekOfYear</th>\n",
       "    </tr>\n",
       "  </thead>\n",
       "  <tbody>\n",
       "    <tr>\n",
       "      <th>0</th>\n",
       "      <td>420374</td>\n",
       "      <td>2014-04-06 18:44:58.314</td>\n",
       "      <td>214537888</td>\n",
       "      <td>12462</td>\n",
       "      <td>1</td>\n",
       "      <td>6</td>\n",
       "      <td>18</td>\n",
       "      <td>14</td>\n",
       "      <td>6</td>\n",
       "      <td>18</td>\n",
       "      <td>14</td>\n",
       "    </tr>\n",
       "    <tr>\n",
       "      <th>1</th>\n",
       "      <td>420374</td>\n",
       "      <td>2014-04-06 18:44:58.325</td>\n",
       "      <td>214537850</td>\n",
       "      <td>10471</td>\n",
       "      <td>1</td>\n",
       "      <td>6</td>\n",
       "      <td>18</td>\n",
       "      <td>14</td>\n",
       "      <td>6</td>\n",
       "      <td>18</td>\n",
       "      <td>14</td>\n",
       "    </tr>\n",
       "    <tr>\n",
       "      <th>2</th>\n",
       "      <td>281626</td>\n",
       "      <td>2014-04-06 09:40:13.032</td>\n",
       "      <td>214535653</td>\n",
       "      <td>1883</td>\n",
       "      <td>1</td>\n",
       "      <td>6</td>\n",
       "      <td>9</td>\n",
       "      <td>14</td>\n",
       "      <td>6</td>\n",
       "      <td>9</td>\n",
       "      <td>14</td>\n",
       "    </tr>\n",
       "    <tr>\n",
       "      <th>3</th>\n",
       "      <td>420368</td>\n",
       "      <td>2014-04-04 06:13:28.848</td>\n",
       "      <td>214530572</td>\n",
       "      <td>6073</td>\n",
       "      <td>1</td>\n",
       "      <td>4</td>\n",
       "      <td>6</td>\n",
       "      <td>14</td>\n",
       "      <td>4</td>\n",
       "      <td>6</td>\n",
       "      <td>14</td>\n",
       "    </tr>\n",
       "    <tr>\n",
       "      <th>4</th>\n",
       "      <td>420368</td>\n",
       "      <td>2014-04-04 06:13:28.858</td>\n",
       "      <td>214835025</td>\n",
       "      <td>2617</td>\n",
       "      <td>1</td>\n",
       "      <td>4</td>\n",
       "      <td>6</td>\n",
       "      <td>14</td>\n",
       "      <td>4</td>\n",
       "      <td>6</td>\n",
       "      <td>14</td>\n",
       "    </tr>\n",
       "  </tbody>\n",
       "</table>\n",
       "</div>"
      ],
      "text/plain": [
       "   session               timestamp       item  price  qty  dayofweek  \\\n",
       "0   420374 2014-04-06 18:44:58.314  214537888  12462    1          6   \n",
       "1   420374 2014-04-06 18:44:58.325  214537850  10471    1          6   \n",
       "2   281626 2014-04-06 09:40:13.032  214535653   1883    1          6   \n",
       "3   420368 2014-04-04 06:13:28.848  214530572   6073    1          4   \n",
       "4   420368 2014-04-04 06:13:28.858  214835025   2617    1          4   \n",
       "\n",
       "   hourofday  weefofyear  dayOfWeek  hourOfDay  weekOfYear  \n",
       "0         18          14          6         18          14  \n",
       "1         18          14          6         18          14  \n",
       "2          9          14          6          9          14  \n",
       "3          6          14          4          6          14  \n",
       "4          6          14          4          6          14  "
      ]
     },
     "execution_count": 155,
     "metadata": {},
     "output_type": "execute_result"
    }
   ],
   "source": [
    "buys[\"dayOfWeek\"] = buys['timestamp'].dt.dayofweek # Notice that there is no function call ie dayofweek()\n",
    "buys[\"hourOfDay\"] = buys['timestamp'].dt.hour \n",
    "buys[\"weekOfYear\"] = buys['timestamp'].dt.weekofyear \n",
    "buys.head()"
   ]
  },
  {
   "cell_type": "code",
   "execution_count": 156,
   "metadata": {},
   "outputs": [
    {
     "data": {
      "text/html": [
       "<div>\n",
       "<table border=\"1\" class=\"dataframe\">\n",
       "  <thead>\n",
       "    <tr style=\"text-align: right;\">\n",
       "      <th></th>\n",
       "      <th>session</th>\n",
       "      <th>timestamp</th>\n",
       "      <th>item</th>\n",
       "      <th>category</th>\n",
       "      <th>dayofweek</th>\n",
       "      <th>hourofday</th>\n",
       "      <th>weefofyear</th>\n",
       "      <th>dayOfWeek</th>\n",
       "      <th>hourOfDay</th>\n",
       "      <th>weekOfYear</th>\n",
       "    </tr>\n",
       "  </thead>\n",
       "  <tbody>\n",
       "    <tr>\n",
       "      <th>0</th>\n",
       "      <td>1</td>\n",
       "      <td>2014-04-07 10:51:09.277</td>\n",
       "      <td>214536502</td>\n",
       "      <td>0</td>\n",
       "      <td>0</td>\n",
       "      <td>10</td>\n",
       "      <td>15</td>\n",
       "      <td>0</td>\n",
       "      <td>10</td>\n",
       "      <td>15</td>\n",
       "    </tr>\n",
       "    <tr>\n",
       "      <th>1</th>\n",
       "      <td>1</td>\n",
       "      <td>2014-04-07 10:54:09.868</td>\n",
       "      <td>214536500</td>\n",
       "      <td>0</td>\n",
       "      <td>0</td>\n",
       "      <td>10</td>\n",
       "      <td>15</td>\n",
       "      <td>0</td>\n",
       "      <td>10</td>\n",
       "      <td>15</td>\n",
       "    </tr>\n",
       "    <tr>\n",
       "      <th>2</th>\n",
       "      <td>1</td>\n",
       "      <td>2014-04-07 10:54:46.998</td>\n",
       "      <td>214536506</td>\n",
       "      <td>0</td>\n",
       "      <td>0</td>\n",
       "      <td>10</td>\n",
       "      <td>15</td>\n",
       "      <td>0</td>\n",
       "      <td>10</td>\n",
       "      <td>15</td>\n",
       "    </tr>\n",
       "    <tr>\n",
       "      <th>3</th>\n",
       "      <td>1</td>\n",
       "      <td>2014-04-07 10:57:00.306</td>\n",
       "      <td>214577561</td>\n",
       "      <td>0</td>\n",
       "      <td>0</td>\n",
       "      <td>10</td>\n",
       "      <td>15</td>\n",
       "      <td>0</td>\n",
       "      <td>10</td>\n",
       "      <td>15</td>\n",
       "    </tr>\n",
       "    <tr>\n",
       "      <th>4</th>\n",
       "      <td>2</td>\n",
       "      <td>2014-04-07 13:56:37.614</td>\n",
       "      <td>214662742</td>\n",
       "      <td>0</td>\n",
       "      <td>0</td>\n",
       "      <td>13</td>\n",
       "      <td>15</td>\n",
       "      <td>0</td>\n",
       "      <td>13</td>\n",
       "      <td>15</td>\n",
       "    </tr>\n",
       "  </tbody>\n",
       "</table>\n",
       "</div>"
      ],
      "text/plain": [
       "   session               timestamp       item category  dayofweek  hourofday  \\\n",
       "0        1 2014-04-07 10:51:09.277  214536502        0          0         10   \n",
       "1        1 2014-04-07 10:54:09.868  214536500        0          0         10   \n",
       "2        1 2014-04-07 10:54:46.998  214536506        0          0         10   \n",
       "3        1 2014-04-07 10:57:00.306  214577561        0          0         10   \n",
       "4        2 2014-04-07 13:56:37.614  214662742        0          0         13   \n",
       "\n",
       "   weefofyear  dayOfWeek  hourOfDay  weekOfYear  \n",
       "0          15          0         10          15  \n",
       "1          15          0         10          15  \n",
       "2          15          0         10          15  \n",
       "3          15          0         10          15  \n",
       "4          15          0         13          15  "
      ]
     },
     "execution_count": 156,
     "metadata": {},
     "output_type": "execute_result"
    }
   ],
   "source": [
    "clicks[\"dayOfWeek\"] = clicks['timestamp'].dt.dayofweek \n",
    "clicks[\"hourOfDay\"] = clicks['timestamp'].dt.hour \n",
    "clicks[\"weekOfYear\"] = clicks['timestamp'].dt.weekofyear \n",
    "clicks.head()"
   ]
  },
  {
   "cell_type": "code",
   "execution_count": 163,
   "metadata": {},
   "outputs": [
    {
     "data": {
      "text/html": [
       "<div>\n",
       "<table border=\"1\" class=\"dataframe\">\n",
       "  <thead>\n",
       "    <tr style=\"text-align: right;\">\n",
       "      <th></th>\n",
       "      <th>Clicked</th>\n",
       "    </tr>\n",
       "    <tr>\n",
       "      <th>dayOfWeek</th>\n",
       "      <th></th>\n",
       "    </tr>\n",
       "  </thead>\n",
       "  <tbody>\n",
       "    <tr>\n",
       "      <th>0</th>\n",
       "      <td>6578482</td>\n",
       "    </tr>\n",
       "    <tr>\n",
       "      <th>1</th>\n",
       "      <td>2233498</td>\n",
       "    </tr>\n",
       "    <tr>\n",
       "      <th>2</th>\n",
       "      <td>4795554</td>\n",
       "    </tr>\n",
       "    <tr>\n",
       "      <th>3</th>\n",
       "      <td>4512049</td>\n",
       "    </tr>\n",
       "    <tr>\n",
       "      <th>4</th>\n",
       "      <td>3615548</td>\n",
       "    </tr>\n",
       "    <tr>\n",
       "      <th>5</th>\n",
       "      <td>3908733</td>\n",
       "    </tr>\n",
       "    <tr>\n",
       "      <th>6</th>\n",
       "      <td>7360080</td>\n",
       "    </tr>\n",
       "  </tbody>\n",
       "</table>\n",
       "</div>"
      ],
      "text/plain": [
       "           Clicked\n",
       "dayOfWeek         \n",
       "0          6578482\n",
       "1          2233498\n",
       "2          4795554\n",
       "3          4512049\n",
       "4          3615548\n",
       "5          3908733\n",
       "6          7360080"
      ]
     },
     "execution_count": 163,
     "metadata": {},
     "output_type": "execute_result"
    }
   ],
   "source": [
    "clicks_by_day = clicks['dayOfWeek'].groupby(clicks['dayOfWeek']).count().to_frame(\"Clicked\")\n",
    "clicks_by_day.head(10)"
   ]
  },
  {
   "cell_type": "code",
   "execution_count": 164,
   "metadata": {},
   "outputs": [
    {
     "data": {
      "text/html": [
       "<div>\n",
       "<table border=\"1\" class=\"dataframe\">\n",
       "  <thead>\n",
       "    <tr style=\"text-align: right;\">\n",
       "      <th></th>\n",
       "      <th>Bought</th>\n",
       "    </tr>\n",
       "    <tr>\n",
       "      <th>dayOfWeek</th>\n",
       "      <th></th>\n",
       "    </tr>\n",
       "  </thead>\n",
       "  <tbody>\n",
       "    <tr>\n",
       "      <th>0</th>\n",
       "      <td>215594</td>\n",
       "    </tr>\n",
       "    <tr>\n",
       "      <th>1</th>\n",
       "      <td>40925</td>\n",
       "    </tr>\n",
       "    <tr>\n",
       "      <th>2</th>\n",
       "      <td>147451</td>\n",
       "    </tr>\n",
       "    <tr>\n",
       "      <th>3</th>\n",
       "      <td>146158</td>\n",
       "    </tr>\n",
       "    <tr>\n",
       "      <th>4</th>\n",
       "      <td>126955</td>\n",
       "    </tr>\n",
       "    <tr>\n",
       "      <th>5</th>\n",
       "      <td>171441</td>\n",
       "    </tr>\n",
       "    <tr>\n",
       "      <th>6</th>\n",
       "      <td>302229</td>\n",
       "    </tr>\n",
       "  </tbody>\n",
       "</table>\n",
       "</div>"
      ],
      "text/plain": [
       "           Bought\n",
       "dayOfWeek        \n",
       "0          215594\n",
       "1           40925\n",
       "2          147451\n",
       "3          146158\n",
       "4          126955\n",
       "5          171441\n",
       "6          302229"
      ]
     },
     "execution_count": 164,
     "metadata": {},
     "output_type": "execute_result"
    }
   ],
   "source": [
    "buys_by_day = buys['dayOfWeek'].groupby(buys['dayOfWeek']).count().to_frame(\"Bought\")\n",
    "buys_by_day.head(10)"
   ]
  },
  {
   "cell_type": "code",
   "execution_count": 176,
   "metadata": {},
   "outputs": [
    {
     "data": {
      "text/html": [
       "<div>\n",
       "<table border=\"1\" class=\"dataframe\">\n",
       "  <thead>\n",
       "    <tr style=\"text-align: right;\">\n",
       "      <th></th>\n",
       "      <th>Clicked</th>\n",
       "      <th>Bought</th>\n",
       "    </tr>\n",
       "  </thead>\n",
       "  <tbody>\n",
       "    <tr>\n",
       "      <th>Sunday</th>\n",
       "      <td>6578482</td>\n",
       "      <td>215594</td>\n",
       "    </tr>\n",
       "    <tr>\n",
       "      <th>Monday</th>\n",
       "      <td>2233498</td>\n",
       "      <td>40925</td>\n",
       "    </tr>\n",
       "    <tr>\n",
       "      <th>Tuesday</th>\n",
       "      <td>4795554</td>\n",
       "      <td>147451</td>\n",
       "    </tr>\n",
       "    <tr>\n",
       "      <th>Wednesday</th>\n",
       "      <td>4512049</td>\n",
       "      <td>146158</td>\n",
       "    </tr>\n",
       "    <tr>\n",
       "      <th>Thursday</th>\n",
       "      <td>3615548</td>\n",
       "      <td>126955</td>\n",
       "    </tr>\n",
       "    <tr>\n",
       "      <th>Friday</th>\n",
       "      <td>3908733</td>\n",
       "      <td>171441</td>\n",
       "    </tr>\n",
       "    <tr>\n",
       "      <th>Saturday</th>\n",
       "      <td>7360080</td>\n",
       "      <td>302229</td>\n",
       "    </tr>\n",
       "  </tbody>\n",
       "</table>\n",
       "</div>"
      ],
      "text/plain": [
       "           Clicked  Bought\n",
       "Sunday     6578482  215594\n",
       "Monday     2233498   40925\n",
       "Tuesday    4795554  147451\n",
       "Wednesday  4512049  146158\n",
       "Thursday   3615548  126955\n",
       "Friday     3908733  171441\n",
       "Saturday   7360080  302229"
      ]
     },
     "execution_count": 176,
     "metadata": {},
     "output_type": "execute_result"
    }
   ],
   "source": [
    "e2e_by_day = pd.merge(clicks_by_day, buys_by_day, how='outer', left_index=True, right_index=True)\n",
    "e2e_by_day.index = [\"Sunday\",\"Monday\",\"Tuesday\",\"Wednesday\",\"Thursday\",\"Friday\",\"Saturday\"]\n",
    "e2e_by_day"
   ]
  },
  {
   "cell_type": "code",
   "execution_count": 179,
   "metadata": {},
   "outputs": [
    {
     "data": {
      "text/plain": [
       "<matplotlib.axes._subplots.AxesSubplot at 0x2656ea190>"
      ]
     },
     "execution_count": 179,
     "metadata": {},
     "output_type": "execute_result"
    },
    {
     "data": {
      "image/png": "[encoded data removed]",
      "text/plain": [
       "<matplotlib.figure.Figure at 0x273386450>"
      ]
     },
     "metadata": {},
     "output_type": "display_data"
    }
   ],
   "source": [
    "e2e_by_day.plot(kind=\"bar\")"
   ]
  },
  {
   "cell_type": "code",
   "execution_count": 178,
   "metadata": {},
   "outputs": [
    {
     "data": {
      "text/html": [
       "<div>\n",
       "<table border=\"1\" class=\"dataframe\">\n",
       "  <thead>\n",
       "    <tr style=\"text-align: right;\">\n",
       "      <th></th>\n",
       "      <th>Clicked</th>\n",
       "      <th>Bought</th>\n",
       "      <th>Percent</th>\n",
       "    </tr>\n",
       "  </thead>\n",
       "  <tbody>\n",
       "    <tr>\n",
       "      <th>Sunday</th>\n",
       "      <td>6578482</td>\n",
       "      <td>215594</td>\n",
       "      <td>3.277261</td>\n",
       "    </tr>\n",
       "    <tr>\n",
       "      <th>Monday</th>\n",
       "      <td>2233498</td>\n",
       "      <td>40925</td>\n",
       "      <td>1.832328</td>\n",
       "    </tr>\n",
       "    <tr>\n",
       "      <th>Tuesday</th>\n",
       "      <td>4795554</td>\n",
       "      <td>147451</td>\n",
       "      <td>3.074744</td>\n",
       "    </tr>\n",
       "    <tr>\n",
       "      <th>Wednesday</th>\n",
       "      <td>4512049</td>\n",
       "      <td>146158</td>\n",
       "      <td>3.239282</td>\n",
       "    </tr>\n",
       "    <tr>\n",
       "      <th>Thursday</th>\n",
       "      <td>3615548</td>\n",
       "      <td>126955</td>\n",
       "      <td>3.511363</td>\n",
       "    </tr>\n",
       "    <tr>\n",
       "      <th>Friday</th>\n",
       "      <td>3908733</td>\n",
       "      <td>171441</td>\n",
       "      <td>4.386102</td>\n",
       "    </tr>\n",
       "    <tr>\n",
       "      <th>Saturday</th>\n",
       "      <td>7360080</td>\n",
       "      <td>302229</td>\n",
       "      <td>4.106328</td>\n",
       "    </tr>\n",
       "  </tbody>\n",
       "</table>\n",
       "</div>"
      ],
      "text/plain": [
       "           Clicked  Bought   Percent\n",
       "Sunday     6578482  215594  3.277261\n",
       "Monday     2233498   40925  1.832328\n",
       "Tuesday    4795554  147451  3.074744\n",
       "Wednesday  4512049  146158  3.239282\n",
       "Thursday   3615548  126955  3.511363\n",
       "Friday     3908733  171441  4.386102\n",
       "Saturday   7360080  302229  4.106328"
      ]
     },
     "execution_count": 178,
     "metadata": {},
     "output_type": "execute_result"
    }
   ],
   "source": [
    "e2e_by_day[\"Percent\"] = 100.0 * e2e_by_day[\"Bought\"] / e2e_by_day[\"Clicked\"]\n",
    "e2e_by_day"
   ]
  },
  {
   "cell_type": "code",
   "execution_count": null,
   "metadata": {
    "collapsed": true
   },
   "outputs": [],
   "source": [
    "# There is a difference in buys on different day of the week"
   ]
  },
  {
   "cell_type": "markdown",
   "metadata": {},
   "source": [
    "### Addendum"
   ]
  },
  {
   "cell_type": "markdown",
   "metadata": {},
   "source": [
    "#### Interesting Technique combining apply to groupby date"
   ]
  },
  {
   "cell_type": "code",
   "execution_count": 174,
   "metadata": {},
   "outputs": [],
   "source": [
    "# some display options to make figures bigger\n",
    "pd.set_option('display.max_columns', 15)\n",
    "pd.set_option('display.width', 400)\n",
    "pd.set_option('display.mpl_style', 'default')\n",
    "rcParams['figure.figsize'] = (14, 7)\n",
    "import matplotlib\n",
    "font = {'family' : 'Helvetica',\n",
    "        'weight' : 'bold',\n",
    "        'size'   : 22}\n",
    "\n",
    "matplotlib.rc('font', **font)"
   ]
  },
  {
   "cell_type": "code",
   "execution_count": 175,
   "metadata": {},
   "outputs": [
    {
     "name": "stdout",
     "output_type": "stream",
     "text": [
      "CPU times: user 1min 48s, sys: 7.87 s, total: 1min 56s\n",
      "Wall time: 2min\n"
     ]
    },
    {
     "data": {
      "image/png": "[encoded data removed]",
      "text/plain": [
       "<matplotlib.figure.Figure at 0x2733721d0>"
      ]
     },
     "metadata": {},
     "output_type": "display_data"
    }
   ],
   "source": [
    "%%time\n",
    "#Buys and clicks per day\n",
    "buys_grouped_dates = buys[\"timestamp\"].groupby(buys[\"timestamp\"].apply(lambda x : x.date()))\n",
    "buys_by_date = buys_grouped_dates.count()\n",
    "buys_by_date = buys_by_date.to_frame(name=\"buys\")\n",
    "\n",
    "clicks_grouped_dates = clicks[\"timestamp\"].groupby(clicks[\"timestamp\"].apply(lambda x : x.date()))\n",
    "clicks_by_date = clicks_grouped_dates.count()\n",
    "clicks_by_date = clicks_by_date.to_frame(name=\"clicks\")\n",
    "\n",
    "buys_and_click_by_date = pd.merge(buys_by_date, clicks_by_date, how='outer', left_index=True, right_index=True)\n",
    "buys_and_click_by_date.fillna(0, inplace=True)\n",
    "\n",
    "buys_and_click_by_date.plot()"
   ]
  },
  {
   "cell_type": "code",
   "execution_count": null,
   "metadata": {
    "collapsed": true
   },
   "outputs": [],
   "source": []
  },
  {
   "cell_type": "code",
   "execution_count": null,
   "metadata": {
    "collapsed": true
   },
   "outputs": [],
   "source": []
  },
  {
   "cell_type": "markdown",
   "metadata": {},
   "source": [
    "### Step 3 - ML Modelling & Prediction"
   ]
  },
  {
   "cell_type": "code",
   "execution_count": null,
   "metadata": {
    "collapsed": true
   },
   "outputs": [],
   "source": [
    "#Outside this session ..."
   ]
  },
  {
   "cell_type": "markdown",
   "metadata": {},
   "source": [
    "### _That's All, Folks !_"
   ]
  },
  {
   "cell_type": "code",
   "execution_count": null,
   "metadata": {
    "collapsed": true
   },
   "outputs": [],
   "source": []
  }
 ],
 "metadata": {
  "kernelspec": {
   "display_name": "Python 3 (ipykernel)",
   "language": "python",
   "name": "python3"
  },
  "language_info": {
   "codemirror_mode": {
    "name": "ipython",
    "version": 3
   },
   "file_extension": ".py",
   "mimetype": "text/x-python",
   "name": "python",
   "nbconvert_exporter": "python",
   "pygments_lexer": "ipython3",
   "version": "3.9.7"
  }
 },
 "nbformat": 4,
 "nbformat_minor": 1
}
