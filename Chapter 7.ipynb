{
 "cells": [
  {
   "cell_type": "code",
   "execution_count": 1,
   "id": "74971651",
   "metadata": {},
   "outputs": [],
   "source": [
    "# The usual preamble\n",
    "%matplotlib inline\n",
    "\n",
    "import pandas as pd\n",
    "import matplotlib.pyplot as plt\n",
    "import numpy as np\n",
    "\n",
    "# Make the graphs a bit prettier, and bigger\n",
    "plt.style.use('ggplot')\n",
    "plt.rcParams['figure.figsize'] = (15, 5)\n",
    "plt.rcParams['font.family'] = 'sans-serif'\n",
    "\n",
    "# This is necessary to show lots of columns in pandas 0.12. \n",
    "# Not necessary in pandas 0.13.\n",
    "pd.set_option('display.width', 5000) \n",
    "pd.set_option('display.max_columns', 60)"
   ]
  },
  {
   "cell_type": "code",
   "execution_count": 32,
   "id": "84cd4b80",
   "metadata": {},
   "outputs": [],
   "source": [
    "requests = pd.read_csv('311-service-requests.csv', dtype='unicode')"
   ]
  },
  {
   "cell_type": "code",
   "execution_count": 33,
   "id": "bc90889a",
   "metadata": {},
   "outputs": [
    {
     "data": {
      "text/plain": [
       "array(['11432', '11378', '10032', '10023', '10027', '11372', '11419',\n",
       "       '11417', '10011', '11225', '11218', '10003', '10029', '10466',\n",
       "       '11219', '10025', '10310', '11236', nan, '10033', '11216', '10016',\n",
       "       '10305', '10312', '10026', '10309', '10036', '11433', '11235',\n",
       "       '11213', '11379', '11101', '10014', '11231', '11234', '10457',\n",
       "       '10459', '10465', '11207', '10002', '10034', '11233', '10453',\n",
       "       '10456', '10469', '11374', '11221', '11421', '11215', '10007',\n",
       "       '10019', '11205', '11418', '11369', '11249', '10005', '10009',\n",
       "       '11211', '11412', '10458', '11229', '10065', '10030', '11222',\n",
       "       '10024', '10013', '11420', '11365', '10012', '11214', '11212',\n",
       "       '10022', '11232', '11040', '11226', '10281', '11102', '11208',\n",
       "       '10001', '10472', '11414', '11223', '10040', '11220', '11373',\n",
       "       '11203', '11691', '11356', '10017', '10452', '10280', '11217',\n",
       "       '10031', '11201', '11358', '10128', '11423', '10039', '10010',\n",
       "       '11209', '10021', '10037', '11413', '11375', '11238', '10473',\n",
       "       '11103', '11354', '11361', '11106', '11385', '10463', '10467',\n",
       "       '11204', '11237', '11377', '11364', '11434', '11435', '11210',\n",
       "       '11228', '11368', '11694', '10464', '11415', '10314', '10301',\n",
       "       '10018', '10038', '11105', '11230', '10468', '11104', '10471',\n",
       "       '11416', '10075', '11422', '11355', '10028', '10462', '10306',\n",
       "       '10461', '11224', '11429', '10035', '11366', '11362', '11206',\n",
       "       '10460', '10304', '11360', '11411', '10455', '10475', '10069',\n",
       "       '10303', '10308', '10302', '11357', '10470', '11367', '11370',\n",
       "       '10454', '10451', '11436', '11426', '10153', '11004', '11428',\n",
       "       '11427', '11001', '11363', '10004', '10474', '11430', '10000',\n",
       "       '10307', '11239', '10119', '10006', '10048', '11697', '11692',\n",
       "       '11693', '10573', '00083', '11559', '10020', '77056', '11776',\n",
       "       '70711', '10282', '11109', '10044', '02061', '77092-2016', '14225',\n",
       "       '55164-0737', '19711', '07306', '000000', 'NO CLUE', '90010',\n",
       "       '11747', '23541', '11788', '07604', '10112', '11563', '11580',\n",
       "       '07087', '11042', '07093', '11501', '92123', '00000', '11575',\n",
       "       '07109', '11797', '10803', '11716', '11722', '11549-3650', '10162',\n",
       "       '23502', '11518', '07020', '08807', '11577', '07114', '11003',\n",
       "       '07201', '61702', '10103', '29616-0759', '35209-3114', '11520',\n",
       "       '11735', '10129', '11005', '41042', '11590', '06901', '07208',\n",
       "       '11530', '13221', '10954', '11111', '10107'], dtype=object)"
      ]
     },
     "execution_count": 33,
     "metadata": {},
     "output_type": "execute_result"
    }
   ],
   "source": [
    "requests['Incident Zip'].unique()"
   ]
  },
  {
   "cell_type": "code",
   "execution_count": 38,
   "id": "c49ae4a6",
   "metadata": {},
   "outputs": [],
   "source": [
    "na_values = ['NO CLUE', 'N/A', '0']\n",
    "requests = pd.read_csv('311-service-requests.csv', na_values=na_values, dtype={'Incident Zip': str})"
   ]
  },
  {
   "cell_type": "code",
   "execution_count": 39,
   "id": "65e6c401",
   "metadata": {},
   "outputs": [
    {
     "data": {
      "text/plain": [
       "array(['11432', '11378', '10032', '10023', '10027', '11372', '11419',\n",
       "       '11417', '10011', '11225', '11218', '10003', '10029', '10466',\n",
       "       '11219', '10025', '10310', '11236', nan, '10033', '11216', '10016',\n",
       "       '10305', '10312', '10026', '10309', '10036', '11433', '11235',\n",
       "       '11213', '11379', '11101', '10014', '11231', '11234', '10457',\n",
       "       '10459', '10465', '11207', '10002', '10034', '11233', '10453',\n",
       "       '10456', '10469', '11374', '11221', '11421', '11215', '10007',\n",
       "       '10019', '11205', '11418', '11369', '11249', '10005', '10009',\n",
       "       '11211', '11412', '10458', '11229', '10065', '10030', '11222',\n",
       "       '10024', '10013', '11420', '11365', '10012', '11214', '11212',\n",
       "       '10022', '11232', '11040', '11226', '10281', '11102', '11208',\n",
       "       '10001', '10472', '11414', '11223', '10040', '11220', '11373',\n",
       "       '11203', '11691', '11356', '10017', '10452', '10280', '11217',\n",
       "       '10031', '11201', '11358', '10128', '11423', '10039', '10010',\n",
       "       '11209', '10021', '10037', '11413', '11375', '11238', '10473',\n",
       "       '11103', '11354', '11361', '11106', '11385', '10463', '10467',\n",
       "       '11204', '11237', '11377', '11364', '11434', '11435', '11210',\n",
       "       '11228', '11368', '11694', '10464', '11415', '10314', '10301',\n",
       "       '10018', '10038', '11105', '11230', '10468', '11104', '10471',\n",
       "       '11416', '10075', '11422', '11355', '10028', '10462', '10306',\n",
       "       '10461', '11224', '11429', '10035', '11366', '11362', '11206',\n",
       "       '10460', '10304', '11360', '11411', '10455', '10475', '10069',\n",
       "       '10303', '10308', '10302', '11357', '10470', '11367', '11370',\n",
       "       '10454', '10451', '11436', '11426', '10153', '11004', '11428',\n",
       "       '11427', '11001', '11363', '10004', '10474', '11430', '10000',\n",
       "       '10307', '11239', '10119', '10006', '10048', '11697', '11692',\n",
       "       '11693', '10573', '00083', '11559', '10020', '77056', '11776',\n",
       "       '70711', '10282', '11109', '10044', '02061', '77092-2016', '14225',\n",
       "       '55164-0737', '19711', '07306', '000000', '90010', '11747',\n",
       "       '23541', '11788', '07604', '10112', '11563', '11580', '07087',\n",
       "       '11042', '07093', '11501', '92123', '00000', '11575', '07109',\n",
       "       '11797', '10803', '11716', '11722', '11549-3650', '10162', '23502',\n",
       "       '11518', '07020', '08807', '11577', '07114', '11003', '07201',\n",
       "       '61702', '10103', '29616-0759', '35209-3114', '11520', '11735',\n",
       "       '10129', '11005', '41042', '11590', '06901', '07208', '11530',\n",
       "       '13221', '10954', '11111', '10107'], dtype=object)"
      ]
     },
     "execution_count": 39,
     "metadata": {},
     "output_type": "execute_result"
    }
   ],
   "source": [
    "requests['Incident Zip'].unique()"
   ]
  },
  {
   "cell_type": "code",
   "execution_count": 40,
   "id": "aa3735a7",
   "metadata": {},
   "outputs": [
    {
     "data": {
      "text/plain": [
       "5"
      ]
     },
     "execution_count": 40,
     "metadata": {},
     "output_type": "execute_result"
    }
   ],
   "source": [
    "rows_with_dashes = requests['Incident Zip'].str.contains('-').fillna(False)\n",
    "len(requests[rows_with_dashes])"
   ]
  },
  {
   "cell_type": "code",
   "execution_count": 42,
   "id": "5f8d34cf",
   "metadata": {},
   "outputs": [
    {
     "data": {
      "text/plain": [
       "0    11432\n",
       "1    11378\n",
       "2    10032\n",
       "3    10023\n",
       "4    10027\n",
       "5    11372\n",
       "6    11419\n",
       "7    11417\n",
       "8    10011\n",
       "9    11225\n",
       "Name: Incident Zip, dtype: object"
      ]
     },
     "execution_count": 42,
     "metadata": {},
     "output_type": "execute_result"
    }
   ],
   "source": [
    "requests['Incident Zip'].str.slice(0, 5)[:10]"
   ]
  },
  {
   "cell_type": "code",
   "execution_count": 43,
   "id": "96bfeec2",
   "metadata": {},
   "outputs": [],
   "source": [
    "requests['Incident Zip']=requests['Incident Zip'].str.slice(0, 5)"
   ]
  },
  {
   "cell_type": "code",
   "execution_count": 44,
   "id": "7dc28221",
   "metadata": {},
   "outputs": [],
   "source": [
    "rows_with_dashes = requests['Incident Zip'].str.contains('-').fillna(False)"
   ]
  },
  {
   "cell_type": "code",
   "execution_count": 45,
   "id": "877504e7",
   "metadata": {},
   "outputs": [
    {
     "data": {
      "text/plain": [
       "array(['11432', '11378', '10032', '10023', '10027', '11372', '11419',\n",
       "       '11417', '10011', '11225', '11218', '10003', '10029', '10466',\n",
       "       '11219', '10025', '10310', '11236', nan, '10033', '11216', '10016',\n",
       "       '10305', '10312', '10026', '10309', '10036', '11433', '11235',\n",
       "       '11213', '11379', '11101', '10014', '11231', '11234', '10457',\n",
       "       '10459', '10465', '11207', '10002', '10034', '11233', '10453',\n",
       "       '10456', '10469', '11374', '11221', '11421', '11215', '10007',\n",
       "       '10019', '11205', '11418', '11369', '11249', '10005', '10009',\n",
       "       '11211', '11412', '10458', '11229', '10065', '10030', '11222',\n",
       "       '10024', '10013', '11420', '11365', '10012', '11214', '11212',\n",
       "       '10022', '11232', '11040', '11226', '10281', '11102', '11208',\n",
       "       '10001', '10472', '11414', '11223', '10040', '11220', '11373',\n",
       "       '11203', '11691', '11356', '10017', '10452', '10280', '11217',\n",
       "       '10031', '11201', '11358', '10128', '11423', '10039', '10010',\n",
       "       '11209', '10021', '10037', '11413', '11375', '11238', '10473',\n",
       "       '11103', '11354', '11361', '11106', '11385', '10463', '10467',\n",
       "       '11204', '11237', '11377', '11364', '11434', '11435', '11210',\n",
       "       '11228', '11368', '11694', '10464', '11415', '10314', '10301',\n",
       "       '10018', '10038', '11105', '11230', '10468', '11104', '10471',\n",
       "       '11416', '10075', '11422', '11355', '10028', '10462', '10306',\n",
       "       '10461', '11224', '11429', '10035', '11366', '11362', '11206',\n",
       "       '10460', '10304', '11360', '11411', '10455', '10475', '10069',\n",
       "       '10303', '10308', '10302', '11357', '10470', '11367', '11370',\n",
       "       '10454', '10451', '11436', '11426', '10153', '11004', '11428',\n",
       "       '11427', '11001', '11363', '10004', '10474', '11430', '10000',\n",
       "       '10307', '11239', '10119', '10006', '10048', '11697', '11692',\n",
       "       '11693', '10573', '00083', '11559', '10020', '77056', '11776',\n",
       "       '70711', '10282', '11109', '10044', '02061', '77092', '14225',\n",
       "       '55164', '19711', '07306', '00000', '90010', '11747', '23541',\n",
       "       '11788', '07604', '10112', '11563', '11580', '07087', '11042',\n",
       "       '07093', '11501', '92123', '11575', '07109', '11797', '10803',\n",
       "       '11716', '11722', '11549', '10162', '23502', '11518', '07020',\n",
       "       '08807', '11577', '07114', '11003', '07201', '61702', '10103',\n",
       "       '29616', '35209', '11520', '11735', '10129', '11005', '41042',\n",
       "       '11590', '06901', '07208', '11530', '13221', '10954', '11111',\n",
       "       '10107'], dtype=object)"
      ]
     },
     "execution_count": 45,
     "metadata": {},
     "output_type": "execute_result"
    }
   ],
   "source": [
    "requests['Incident Zip'].unique()"
   ]
  },
  {
   "cell_type": "code",
   "execution_count": 46,
   "id": "1029373f",
   "metadata": {},
   "outputs": [
    {
     "data": {
      "text/html": [
       "<div>\n",
       "<style scoped>\n",
       "    .dataframe tbody tr th:only-of-type {\n",
       "        vertical-align: middle;\n",
       "    }\n",
       "\n",
       "    .dataframe tbody tr th {\n",
       "        vertical-align: top;\n",
       "    }\n",
       "\n",
       "    .dataframe thead th {\n",
       "        text-align: right;\n",
       "    }\n",
       "</style>\n",
       "<table border=\"1\" class=\"dataframe\">\n",
       "  <thead>\n",
       "    <tr style=\"text-align: right;\">\n",
       "      <th></th>\n",
       "      <th>Unique Key</th>\n",
       "      <th>Created Date</th>\n",
       "      <th>Closed Date</th>\n",
       "      <th>Agency</th>\n",
       "      <th>Agency Name</th>\n",
       "      <th>Complaint Type</th>\n",
       "      <th>Descriptor</th>\n",
       "      <th>Location Type</th>\n",
       "      <th>Incident Zip</th>\n",
       "      <th>Incident Address</th>\n",
       "      <th>Street Name</th>\n",
       "      <th>Cross Street 1</th>\n",
       "      <th>Cross Street 2</th>\n",
       "      <th>Intersection Street 1</th>\n",
       "      <th>Intersection Street 2</th>\n",
       "      <th>Address Type</th>\n",
       "      <th>City</th>\n",
       "      <th>Landmark</th>\n",
       "      <th>Facility Type</th>\n",
       "      <th>Status</th>\n",
       "      <th>Due Date</th>\n",
       "      <th>Resolution Action Updated Date</th>\n",
       "      <th>Community Board</th>\n",
       "      <th>Borough</th>\n",
       "      <th>X Coordinate (State Plane)</th>\n",
       "      <th>Y Coordinate (State Plane)</th>\n",
       "      <th>Park Facility Name</th>\n",
       "      <th>Park Borough</th>\n",
       "      <th>School Name</th>\n",
       "      <th>School Number</th>\n",
       "      <th>School Region</th>\n",
       "      <th>School Code</th>\n",
       "      <th>School Phone Number</th>\n",
       "      <th>School Address</th>\n",
       "      <th>School City</th>\n",
       "      <th>School State</th>\n",
       "      <th>School Zip</th>\n",
       "      <th>School Not Found</th>\n",
       "      <th>School or Citywide Complaint</th>\n",
       "      <th>Vehicle Type</th>\n",
       "      <th>Taxi Company Borough</th>\n",
       "      <th>Taxi Pick Up Location</th>\n",
       "      <th>Bridge Highway Name</th>\n",
       "      <th>Bridge Highway Direction</th>\n",
       "      <th>Road Ramp</th>\n",
       "      <th>Bridge Highway Segment</th>\n",
       "      <th>Garage Lot Name</th>\n",
       "      <th>Ferry Direction</th>\n",
       "      <th>Ferry Terminal Name</th>\n",
       "      <th>Latitude</th>\n",
       "      <th>Longitude</th>\n",
       "      <th>Location</th>\n",
       "    </tr>\n",
       "  </thead>\n",
       "  <tbody>\n",
       "    <tr>\n",
       "      <th>42600</th>\n",
       "      <td>26529313</td>\n",
       "      <td>10/22/2013 02:51:06 PM</td>\n",
       "      <td>NaN</td>\n",
       "      <td>TLC</td>\n",
       "      <td>Taxi and Limousine Commission</td>\n",
       "      <td>Taxi Complaint</td>\n",
       "      <td>Driver Complaint</td>\n",
       "      <td>NaN</td>\n",
       "      <td>00000</td>\n",
       "      <td>EWR EWR</td>\n",
       "      <td>EWR</td>\n",
       "      <td>NaN</td>\n",
       "      <td>NaN</td>\n",
       "      <td>NaN</td>\n",
       "      <td>NaN</td>\n",
       "      <td>NaN</td>\n",
       "      <td>NEWARK</td>\n",
       "      <td>NaN</td>\n",
       "      <td>NaN</td>\n",
       "      <td>Assigned</td>\n",
       "      <td>12/07/2013 09:53:51 AM</td>\n",
       "      <td>10/23/2013 09:54:43 AM</td>\n",
       "      <td>0 Unspecified</td>\n",
       "      <td>Unspecified</td>\n",
       "      <td>NaN</td>\n",
       "      <td>NaN</td>\n",
       "      <td>Unspecified</td>\n",
       "      <td>Unspecified</td>\n",
       "      <td>Unspecified</td>\n",
       "      <td>Unspecified</td>\n",
       "      <td>Unspecified</td>\n",
       "      <td>Unspecified</td>\n",
       "      <td>Unspecified</td>\n",
       "      <td>Unspecified</td>\n",
       "      <td>Unspecified</td>\n",
       "      <td>Unspecified</td>\n",
       "      <td>Unspecified</td>\n",
       "      <td>N</td>\n",
       "      <td>NaN</td>\n",
       "      <td>NaN</td>\n",
       "      <td>NaN</td>\n",
       "      <td>Other</td>\n",
       "      <td>NaN</td>\n",
       "      <td>NaN</td>\n",
       "      <td>NaN</td>\n",
       "      <td>NaN</td>\n",
       "      <td>NaN</td>\n",
       "      <td>NaN</td>\n",
       "      <td>NaN</td>\n",
       "      <td>NaN</td>\n",
       "      <td>NaN</td>\n",
       "      <td>NaN</td>\n",
       "    </tr>\n",
       "    <tr>\n",
       "      <th>60843</th>\n",
       "      <td>26507389</td>\n",
       "      <td>10/17/2013 05:48:44 PM</td>\n",
       "      <td>NaN</td>\n",
       "      <td>TLC</td>\n",
       "      <td>Taxi and Limousine Commission</td>\n",
       "      <td>Taxi Complaint</td>\n",
       "      <td>Driver Complaint</td>\n",
       "      <td>Street</td>\n",
       "      <td>00000</td>\n",
       "      <td>1 NEWARK AIRPORT</td>\n",
       "      <td>NEWARK AIRPORT</td>\n",
       "      <td>NaN</td>\n",
       "      <td>NaN</td>\n",
       "      <td>NaN</td>\n",
       "      <td>NaN</td>\n",
       "      <td>NaN</td>\n",
       "      <td>NEWARK</td>\n",
       "      <td>NaN</td>\n",
       "      <td>NaN</td>\n",
       "      <td>Assigned</td>\n",
       "      <td>12/02/2013 11:59:46 AM</td>\n",
       "      <td>10/18/2013 12:01:08 PM</td>\n",
       "      <td>0 Unspecified</td>\n",
       "      <td>Unspecified</td>\n",
       "      <td>NaN</td>\n",
       "      <td>NaN</td>\n",
       "      <td>Unspecified</td>\n",
       "      <td>Unspecified</td>\n",
       "      <td>Unspecified</td>\n",
       "      <td>Unspecified</td>\n",
       "      <td>Unspecified</td>\n",
       "      <td>Unspecified</td>\n",
       "      <td>Unspecified</td>\n",
       "      <td>Unspecified</td>\n",
       "      <td>Unspecified</td>\n",
       "      <td>Unspecified</td>\n",
       "      <td>Unspecified</td>\n",
       "      <td>N</td>\n",
       "      <td>NaN</td>\n",
       "      <td>NaN</td>\n",
       "      <td>NaN</td>\n",
       "      <td>Other</td>\n",
       "      <td>NaN</td>\n",
       "      <td>NaN</td>\n",
       "      <td>NaN</td>\n",
       "      <td>NaN</td>\n",
       "      <td>NaN</td>\n",
       "      <td>NaN</td>\n",
       "      <td>NaN</td>\n",
       "      <td>NaN</td>\n",
       "      <td>NaN</td>\n",
       "      <td>NaN</td>\n",
       "    </tr>\n",
       "  </tbody>\n",
       "</table>\n",
       "</div>"
      ],
      "text/plain": [
       "       Unique Key            Created Date Closed Date Agency                    Agency Name  Complaint Type        Descriptor Location Type Incident Zip  Incident Address     Street Name Cross Street 1 Cross Street 2 Intersection Street 1 Intersection Street 2 Address Type    City Landmark Facility Type    Status                Due Date Resolution Action Updated Date Community Board      Borough  X Coordinate (State Plane)  Y Coordinate (State Plane) Park Facility Name Park Borough  School Name School Number School Region  School Code School Phone Number School Address  School City School State   School Zip School Not Found  School or Citywide Complaint Vehicle Type Taxi Company Borough Taxi Pick Up Location Bridge Highway Name Bridge Highway Direction Road Ramp Bridge Highway Segment Garage Lot Name Ferry Direction Ferry Terminal Name  Latitude  Longitude Location\n",
       "42600    26529313  10/22/2013 02:51:06 PM         NaN    TLC  Taxi and Limousine Commission  Taxi Complaint  Driver Complaint           NaN        00000           EWR EWR             EWR            NaN            NaN                   NaN                   NaN          NaN  NEWARK      NaN           NaN  Assigned  12/07/2013 09:53:51 AM         10/23/2013 09:54:43 AM   0 Unspecified  Unspecified                         NaN                         NaN        Unspecified  Unspecified  Unspecified   Unspecified   Unspecified  Unspecified         Unspecified    Unspecified  Unspecified  Unspecified  Unspecified                N                           NaN          NaN                  NaN                 Other                 NaN                      NaN       NaN                    NaN             NaN             NaN                 NaN       NaN        NaN      NaN\n",
       "60843    26507389  10/17/2013 05:48:44 PM         NaN    TLC  Taxi and Limousine Commission  Taxi Complaint  Driver Complaint        Street        00000  1 NEWARK AIRPORT  NEWARK AIRPORT            NaN            NaN                   NaN                   NaN          NaN  NEWARK      NaN           NaN  Assigned  12/02/2013 11:59:46 AM         10/18/2013 12:01:08 PM   0 Unspecified  Unspecified                         NaN                         NaN        Unspecified  Unspecified  Unspecified   Unspecified   Unspecified  Unspecified         Unspecified    Unspecified  Unspecified  Unspecified  Unspecified                N                           NaN          NaN                  NaN                 Other                 NaN                      NaN       NaN                    NaN             NaN             NaN                 NaN       NaN        NaN      NaN"
      ]
     },
     "execution_count": 46,
     "metadata": {},
     "output_type": "execute_result"
    }
   ],
   "source": [
    "requests[requests['Incident Zip'] == '00000']"
   ]
  },
  {
   "cell_type": "code",
   "execution_count": 47,
   "id": "17f511cd",
   "metadata": {},
   "outputs": [],
   "source": [
    "zero_zips = requests['Incident Zip'] == '00000'\n",
    "requests.loc[zero_zips, 'Incident Zip'] = np.nan\n"
   ]
  },
  {
   "cell_type": "code",
   "execution_count": 48,
   "id": "70feaafc",
   "metadata": {},
   "outputs": [
    {
     "ename": "TypeError",
     "evalue": "'<' not supported between instances of 'float' and 'str'",
     "output_type": "error",
     "traceback": [
      "\u001b[0;31m---------------------------------------------------------------------------\u001b[0m",
      "\u001b[0;31mTypeError\u001b[0m                                 Traceback (most recent call last)",
      "\u001b[0;32m/tmp/ipykernel_929/1948081933.py\u001b[0m in \u001b[0;36m<module>\u001b[0;34m\u001b[0m\n\u001b[1;32m      1\u001b[0m \u001b[0munique_zips\u001b[0m \u001b[0;34m=\u001b[0m \u001b[0mrequests\u001b[0m\u001b[0;34m[\u001b[0m\u001b[0;34m'Incident Zip'\u001b[0m\u001b[0;34m]\u001b[0m\u001b[0;34m.\u001b[0m\u001b[0munique\u001b[0m\u001b[0;34m(\u001b[0m\u001b[0;34m)\u001b[0m\u001b[0;34m\u001b[0m\u001b[0;34m\u001b[0m\u001b[0m\n\u001b[0;32m----> 2\u001b[0;31m \u001b[0munique_zips\u001b[0m\u001b[0;34m.\u001b[0m\u001b[0msort\u001b[0m\u001b[0;34m(\u001b[0m\u001b[0;34m)\u001b[0m\u001b[0;34m\u001b[0m\u001b[0;34m\u001b[0m\u001b[0m\n\u001b[0m\u001b[1;32m      3\u001b[0m \u001b[0munique_zips\u001b[0m\u001b[0;34m\u001b[0m\u001b[0;34m\u001b[0m\u001b[0m\n",
      "\u001b[0;31mTypeError\u001b[0m: '<' not supported between instances of 'float' and 'str'"
     ]
    }
   ],
   "source": [
    "unique_zips = requests['Incident Zip'].unique()\n",
    "unique_zips.sort()\n",
    "unique_zips"
   ]
  },
  {
   "cell_type": "code",
   "execution_count": 53,
   "id": "7074093f",
   "metadata": {},
   "outputs": [
    {
     "data": {
      "text/plain": [
       "array(['11432', '11378', '10032', '10023', '10027', '11372', '11419',\n",
       "       '11417', '10011', '11225', '11218', '10003', '10029', '10466',\n",
       "       '11219', '10025', '10310', '11236', 'stuff', '10033', '11216',\n",
       "       '10016', '10305', '10312', '10026', '10309', '10036', '11433',\n",
       "       '11235', '11213', '11379', '11101', '10014', '11231', '11234',\n",
       "       '10457', '10459', '10465', '11207', '10002', '10034', '11233',\n",
       "       '10453', '10456', '10469', '11374', '11221', '11421', '11215',\n",
       "       '10007', '10019', '11205', '11418', '11369', '11249', '10005',\n",
       "       '10009', '11211', '11412', '10458', '11229', '10065', '10030',\n",
       "       '11222', '10024', '10013', '11420', '11365', '10012', '11214',\n",
       "       '11212', '10022', '11232', '11040', '11226', '10281', '11102',\n",
       "       '11208', '10001', '10472', '11414', '11223', '10040', '11220',\n",
       "       '11373', '11203', '11691', '11356', '10017', '10452', '10280',\n",
       "       '11217', '10031', '11201', '11358', '10128', '11423', '10039',\n",
       "       '10010', '11209', '10021', '10037', '11413', '11375', '11238',\n",
       "       '10473', '11103', '11354', '11361', '11106', '11385', '10463',\n",
       "       '10467', '11204', '11237', '11377', '11364', '11434', '11435',\n",
       "       '11210', '11228', '11368', '11694', '10464', '11415', '10314',\n",
       "       '10301', '10018', '10038', '11105', '11230', '10468', '11104',\n",
       "       '10471', '11416', '10075', '11422', '11355', '10028', '10462',\n",
       "       '10306', '10461', '11224', '11429', '10035', '11366', '11362',\n",
       "       '11206', '10460', '10304', '11360', '11411', '10455', '10475',\n",
       "       '10069', '10303', '10308', '10302', '11357', '10470', '11367',\n",
       "       '11370', '10454', '10451', '11436', '11426', '10153', '11004',\n",
       "       '11428', '11427', '11001', '11363', '10004', '10474', '11430',\n",
       "       '10000', '10307', '11239', '10119', '10006', '10048', '11697',\n",
       "       '11692', '11693', '10573', '00083', '11559', '10020', '77056',\n",
       "       '11776', '70711', '10282', '11109', '10044', '02061', '77092',\n",
       "       '14225', '55164', '19711', '07306', '90010', '11747', '23541',\n",
       "       '11788', '07604', '10112', '11563', '11580', '07087', '11042',\n",
       "       '07093', '11501', '92123', '11575', '07109', '11797', '10803',\n",
       "       '11716', '11722', '11549', '10162', '23502', '11518', '07020',\n",
       "       '08807', '11577', '07114', '11003', '07201', '61702', '10103',\n",
       "       '29616', '35209', '11520', '11735', '10129', '11005', '41042',\n",
       "       '11590', '06901', '07208', '11530', '13221', '10954', '11111',\n",
       "       '10107'], dtype=object)"
      ]
     },
     "execution_count": 53,
     "metadata": {},
     "output_type": "execute_result"
    }
   ],
   "source": [
    "na_values = ['NO CLUE', 'N/A', '0']\n",
    "requests = pd.read_csv('311-service-requests.csv', \n",
    "                       na_values=na_values, \n",
    "                       dtype={'Incident Zip': str})\n",
    "def fix_zip_codes(zips):\n",
    "    # Truncate everything to length 5 \n",
    "    zips = zips.str.slice(0, 5)\n",
    "    \n",
    "    # Set 00000 zip codes to nan\n",
    "    zero_zips = zips == '00000'\n",
    "    zips[zero_zips] = np.nan\n",
    "    \n",
    "    return zips\n",
    "requests['Incident Zip'] = fix_zip_codes(requests['Incident Zip']).fillna('stuff')\n",
    "requests['Incident Zip'].unique()"
   ]
  },
  {
   "cell_type": "code",
   "execution_count": null,
   "id": "78d782d3",
   "metadata": {},
   "outputs": [],
   "source": []
  }
 ],
 "metadata": {
  "kernelspec": {
   "display_name": "Python 3 (ipykernel)",
   "language": "python",
   "name": "python3"
  },
  "language_info": {
   "codemirror_mode": {
    "name": "ipython",
    "version": 3
   },
   "file_extension": ".py",
   "mimetype": "text/x-python",
   "name": "python",
   "nbconvert_exporter": "python",
   "pygments_lexer": "ipython3",
   "version": "3.9.7"
  }
 },
 "nbformat": 4,
 "nbformat_minor": 5
}
